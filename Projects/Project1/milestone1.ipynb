{
 "cells": [
  {
   "cell_type": "markdown",
   "metadata": {},
   "source": [
    "In this python notebook, we will go through a set of data engineering and data analytics processes on 3 different datasets.\n",
    "\n",
    "The process will include the following steps:\n",
    "\n",
    "1.0) Data Preprocessing.\n",
    "\n",
    "2.1) Model Implementation (Random Forest)\n",
    "\n",
    "2.2) Hyperparameter tuning for the model.\n",
    "\n",
    "2.3) Training and evaluation of the model.\n",
    "\n",
    "\n",
    "3.1) Model Implementation (AdaBoost)\n",
    "\n",
    "3.2) Hyperparameter tuning for the model.\n",
    "\n",
    "3.3) Training and evaluation of the model.\n",
    "\n",
    "\n",
    "4.1) Model Implementation (Gradient Boost)\n",
    "\n",
    "4.2) Hyperparameter tuning for the model.\n",
    "\n",
    "4.3) Training and evaluation of the model.\n",
    "\n",
    "\n",
    "5.0) Comparison Table.\n",
    "\n",
    "6.0) Visualization.\n",
    "\n",
    "7.0) Insight and Conslusion."
   ]
  },
  {
   "cell_type": "markdown",
   "metadata": {},
   "source": [
    "## Imports"
   ]
  },
  {
   "cell_type": "code",
   "execution_count": 23,
   "metadata": {},
   "outputs": [],
   "source": [
    "import pandas as pd\n",
    "import numpy as np\n",
    "from sklearn.model_selection import GridSearchCV\n",
    "from sklearn.preprocessing import MinMaxScaler\n",
    "import matplotlib.pyplot as plt\n",
    "import seaborn as sns\n",
    "from sklearn.metrics import confusion_matrix, mean_squared_error, r2_score, mean_absolute_error\n",
    "\n",
    "#Importing Random Forest, AdaBoost, and Gradient Boost models\n",
    "from sklearn.model_selection import train_test_split\n",
    "from sklearn.ensemble import RandomForestRegressor, RandomForestClassifier, AdaBoostClassifier, AdaBoostRegressor, GradientBoostingClassifier, GradientBoostingRegressor\n",
    "from sklearn.metrics import accuracy_score"
   ]
  },
  {
   "cell_type": "markdown",
   "metadata": {},
   "source": [
    "##### Some Predefined Functions:"
   ]
  },
  {
   "cell_type": "code",
   "execution_count": 24,
   "metadata": {},
   "outputs": [],
   "source": [
    "# This function shows the performance metrics for a given model\n",
    "\n",
    "def evaluate(bestModel, y_test_input, X_test_input):\n",
    "    # Creating a confusion matrix\n",
    "    conf_matrix = confusion_matrix(y_test_input, bestModel.predict(X_test_input))\n",
    "\n",
    "    # Reference: https://medium.com/@maxgrossman10/accuracy-recall-precision-f1-score-with-python-4f2ee97e0d6\n",
    "    # Calculate the accuracy, precision, recall, and f1 score of the model\n",
    "    bestModelAccuracy = conf_matrix.diagonal().sum() / conf_matrix.sum()\n",
    "    bestModelPrecision = conf_matrix[1, 1] / (conf_matrix[1, 1] + conf_matrix[0, 1])\n",
    "    bestModelRecall = conf_matrix[1, 1] / (conf_matrix[1, 1] + conf_matrix[1, 0])\n",
    "    bestModelF1Score = 2 * (bestModelPrecision * bestModelRecall) / (bestModelPrecision + bestModelRecall)\n",
    "\n",
    "    print('Best Classifier Accuracy:', bestModelAccuracy)\n",
    "    print('Best Classifier Precision:', bestModelPrecision)\n",
    "    print('Best Classifier Recall:', bestModelRecall)\n",
    "    print('Best Classifier F1 Score:', bestModelF1Score)\n",
    "\n",
    "    # Plot the heatmap\n",
    "    sns.heatmap(conf_matrix, annot=True, fmt='d')\n",
    "    plt.xlabel('Predicted')\n",
    "    plt.ylabel('Actual')\n",
    "    plt.show()"
   ]
  },
  {
   "cell_type": "code",
   "execution_count": 25,
   "metadata": {},
   "outputs": [],
   "source": [
    "def evaluateRegrission(y_test, predictions):\n",
    "    mse = mean_squared_error(y_test, predictions)\n",
    "    print(f'Mean Squared Error: {mse}')\n",
    "    \n",
    "    r2 = r2_score(y_test, predictions)\n",
    "    print(f'R-squared: {r2}')\n",
    "\n",
    "    abs_error = mean_absolute_error(y_test, predictions)\n",
    "    print(f'Mean Absolute Error: {abs_error}')"
   ]
  },
  {
   "cell_type": "markdown",
   "metadata": {},
   "source": [
    "---------------------------------------\n",
    "# First Database Data Engineering Process\n",
    "\n",
    "Database name: \"bankloan.csv\""
   ]
  },
  {
   "cell_type": "code",
   "execution_count": 26,
   "metadata": {},
   "outputs": [],
   "source": [
    "df1 = pd.read_csv('bankloan.csv')"
   ]
  },
  {
   "cell_type": "code",
   "execution_count": 27,
   "metadata": {},
   "outputs": [
    {
     "data": {
      "text/html": [
       "<div>\n",
       "<style scoped>\n",
       "    .dataframe tbody tr th:only-of-type {\n",
       "        vertical-align: middle;\n",
       "    }\n",
       "\n",
       "    .dataframe tbody tr th {\n",
       "        vertical-align: top;\n",
       "    }\n",
       "\n",
       "    .dataframe thead th {\n",
       "        text-align: right;\n",
       "    }\n",
       "</style>\n",
       "<table border=\"1\" class=\"dataframe\">\n",
       "  <thead>\n",
       "    <tr style=\"text-align: right;\">\n",
       "      <th></th>\n",
       "      <th>ID</th>\n",
       "      <th>Age</th>\n",
       "      <th>Experience</th>\n",
       "      <th>Income</th>\n",
       "      <th>ZIP.Code</th>\n",
       "      <th>Family</th>\n",
       "      <th>CCAvg</th>\n",
       "      <th>Education</th>\n",
       "      <th>Mortgage</th>\n",
       "      <th>Personal.Loan</th>\n",
       "      <th>Securities.Account</th>\n",
       "      <th>CD.Account</th>\n",
       "      <th>Online</th>\n",
       "      <th>CreditCard</th>\n",
       "    </tr>\n",
       "  </thead>\n",
       "  <tbody>\n",
       "    <tr>\n",
       "      <th>0</th>\n",
       "      <td>1</td>\n",
       "      <td>25</td>\n",
       "      <td>1</td>\n",
       "      <td>49</td>\n",
       "      <td>91107</td>\n",
       "      <td>4</td>\n",
       "      <td>1.6</td>\n",
       "      <td>1</td>\n",
       "      <td>0</td>\n",
       "      <td>0</td>\n",
       "      <td>1</td>\n",
       "      <td>0</td>\n",
       "      <td>0</td>\n",
       "      <td>0</td>\n",
       "    </tr>\n",
       "    <tr>\n",
       "      <th>1</th>\n",
       "      <td>2</td>\n",
       "      <td>45</td>\n",
       "      <td>19</td>\n",
       "      <td>34</td>\n",
       "      <td>90089</td>\n",
       "      <td>3</td>\n",
       "      <td>1.5</td>\n",
       "      <td>1</td>\n",
       "      <td>0</td>\n",
       "      <td>0</td>\n",
       "      <td>1</td>\n",
       "      <td>0</td>\n",
       "      <td>0</td>\n",
       "      <td>0</td>\n",
       "    </tr>\n",
       "    <tr>\n",
       "      <th>2</th>\n",
       "      <td>3</td>\n",
       "      <td>39</td>\n",
       "      <td>15</td>\n",
       "      <td>11</td>\n",
       "      <td>94720</td>\n",
       "      <td>1</td>\n",
       "      <td>1.0</td>\n",
       "      <td>1</td>\n",
       "      <td>0</td>\n",
       "      <td>0</td>\n",
       "      <td>0</td>\n",
       "      <td>0</td>\n",
       "      <td>0</td>\n",
       "      <td>0</td>\n",
       "    </tr>\n",
       "    <tr>\n",
       "      <th>3</th>\n",
       "      <td>4</td>\n",
       "      <td>35</td>\n",
       "      <td>9</td>\n",
       "      <td>100</td>\n",
       "      <td>94112</td>\n",
       "      <td>1</td>\n",
       "      <td>2.7</td>\n",
       "      <td>2</td>\n",
       "      <td>0</td>\n",
       "      <td>0</td>\n",
       "      <td>0</td>\n",
       "      <td>0</td>\n",
       "      <td>0</td>\n",
       "      <td>0</td>\n",
       "    </tr>\n",
       "    <tr>\n",
       "      <th>4</th>\n",
       "      <td>5</td>\n",
       "      <td>35</td>\n",
       "      <td>8</td>\n",
       "      <td>45</td>\n",
       "      <td>91330</td>\n",
       "      <td>4</td>\n",
       "      <td>1.0</td>\n",
       "      <td>2</td>\n",
       "      <td>0</td>\n",
       "      <td>0</td>\n",
       "      <td>0</td>\n",
       "      <td>0</td>\n",
       "      <td>0</td>\n",
       "      <td>1</td>\n",
       "    </tr>\n",
       "  </tbody>\n",
       "</table>\n",
       "</div>"
      ],
      "text/plain": [
       "   ID  Age  Experience  Income  ZIP.Code  Family  CCAvg  Education  Mortgage  \\\n",
       "0   1   25           1      49     91107       4    1.6          1         0   \n",
       "1   2   45          19      34     90089       3    1.5          1         0   \n",
       "2   3   39          15      11     94720       1    1.0          1         0   \n",
       "3   4   35           9     100     94112       1    2.7          2         0   \n",
       "4   5   35           8      45     91330       4    1.0          2         0   \n",
       "\n",
       "   Personal.Loan  Securities.Account  CD.Account  Online  CreditCard  \n",
       "0              0                   1           0       0           0  \n",
       "1              0                   1           0       0           0  \n",
       "2              0                   0           0       0           0  \n",
       "3              0                   0           0       0           0  \n",
       "4              0                   0           0       0           1  "
      ]
     },
     "execution_count": 27,
     "metadata": {},
     "output_type": "execute_result"
    }
   ],
   "source": [
    "df1.head()"
   ]
  },
  {
   "cell_type": "markdown",
   "metadata": {},
   "source": [
    "## 1.0) Data Preprocessing"
   ]
  },
  {
   "cell_type": "markdown",
   "metadata": {},
   "source": [
    "##### Checking null values for each column."
   ]
  },
  {
   "cell_type": "code",
   "execution_count": 28,
   "metadata": {},
   "outputs": [
    {
     "name": "stdout",
     "output_type": "stream",
     "text": [
      "ID                    0\n",
      "Age                   0\n",
      "Experience            0\n",
      "Income                0\n",
      "ZIP.Code              0\n",
      "Family                0\n",
      "CCAvg                 0\n",
      "Education             0\n",
      "Mortgage              0\n",
      "Personal.Loan         0\n",
      "Securities.Account    0\n",
      "CD.Account            0\n",
      "Online                0\n",
      "CreditCard            0\n",
      "dtype: int64\n"
     ]
    }
   ],
   "source": [
    "# Get the number of null values for each column\n",
    "null_values = df1.isnull().sum()\n",
    "print(null_values)\n",
    "\n",
    "# We have no null values!"
   ]
  },
  {
   "cell_type": "markdown",
   "metadata": {},
   "source": [
    "##### Normalize the \"Zip.Code\" column to contain values between 0 and 1 only, using the MinMaxScaler library. "
   ]
  },
  {
   "cell_type": "code",
   "execution_count": 29,
   "metadata": {},
   "outputs": [],
   "source": [
    "scaler = MinMaxScaler()\n",
    "\n",
    "# Extract the column to be normalized\n",
    "column_data = df1[['ZIP.Code']]\n",
    "\n",
    "# Apply MinMax scaling to the extracted column\n",
    "normalized_column_data = scaler.fit_transform(column_data)\n",
    "\n",
    "# Replace the original column with the normalized values\n",
    "df1['ZIP.Code'] = normalized_column_data"
   ]
  },
  {
   "cell_type": "code",
   "execution_count": 30,
   "metadata": {},
   "outputs": [
    {
     "data": {
      "text/html": [
       "<div>\n",
       "<style scoped>\n",
       "    .dataframe tbody tr th:only-of-type {\n",
       "        vertical-align: middle;\n",
       "    }\n",
       "\n",
       "    .dataframe tbody tr th {\n",
       "        vertical-align: top;\n",
       "    }\n",
       "\n",
       "    .dataframe thead th {\n",
       "        text-align: right;\n",
       "    }\n",
       "</style>\n",
       "<table border=\"1\" class=\"dataframe\">\n",
       "  <thead>\n",
       "    <tr style=\"text-align: right;\">\n",
       "      <th></th>\n",
       "      <th>ID</th>\n",
       "      <th>Age</th>\n",
       "      <th>Experience</th>\n",
       "      <th>Income</th>\n",
       "      <th>ZIP.Code</th>\n",
       "      <th>Family</th>\n",
       "      <th>CCAvg</th>\n",
       "      <th>Education</th>\n",
       "      <th>Mortgage</th>\n",
       "      <th>Personal.Loan</th>\n",
       "      <th>Securities.Account</th>\n",
       "      <th>CD.Account</th>\n",
       "      <th>Online</th>\n",
       "      <th>CreditCard</th>\n",
       "    </tr>\n",
       "  </thead>\n",
       "  <tbody>\n",
       "    <tr>\n",
       "      <th>0</th>\n",
       "      <td>1</td>\n",
       "      <td>25</td>\n",
       "      <td>1</td>\n",
       "      <td>49</td>\n",
       "      <td>0.936527</td>\n",
       "      <td>4</td>\n",
       "      <td>1.6</td>\n",
       "      <td>1</td>\n",
       "      <td>0</td>\n",
       "      <td>0</td>\n",
       "      <td>1</td>\n",
       "      <td>0</td>\n",
       "      <td>0</td>\n",
       "      <td>0</td>\n",
       "    </tr>\n",
       "    <tr>\n",
       "      <th>1</th>\n",
       "      <td>2</td>\n",
       "      <td>45</td>\n",
       "      <td>19</td>\n",
       "      <td>34</td>\n",
       "      <td>0.924872</td>\n",
       "      <td>3</td>\n",
       "      <td>1.5</td>\n",
       "      <td>1</td>\n",
       "      <td>0</td>\n",
       "      <td>0</td>\n",
       "      <td>1</td>\n",
       "      <td>0</td>\n",
       "      <td>0</td>\n",
       "      <td>0</td>\n",
       "    </tr>\n",
       "    <tr>\n",
       "      <th>2</th>\n",
       "      <td>3</td>\n",
       "      <td>39</td>\n",
       "      <td>15</td>\n",
       "      <td>11</td>\n",
       "      <td>0.977892</td>\n",
       "      <td>1</td>\n",
       "      <td>1.0</td>\n",
       "      <td>1</td>\n",
       "      <td>0</td>\n",
       "      <td>0</td>\n",
       "      <td>0</td>\n",
       "      <td>0</td>\n",
       "      <td>0</td>\n",
       "      <td>0</td>\n",
       "    </tr>\n",
       "    <tr>\n",
       "      <th>3</th>\n",
       "      <td>4</td>\n",
       "      <td>35</td>\n",
       "      <td>9</td>\n",
       "      <td>100</td>\n",
       "      <td>0.970931</td>\n",
       "      <td>1</td>\n",
       "      <td>2.7</td>\n",
       "      <td>2</td>\n",
       "      <td>0</td>\n",
       "      <td>0</td>\n",
       "      <td>0</td>\n",
       "      <td>0</td>\n",
       "      <td>0</td>\n",
       "      <td>0</td>\n",
       "    </tr>\n",
       "    <tr>\n",
       "      <th>4</th>\n",
       "      <td>5</td>\n",
       "      <td>35</td>\n",
       "      <td>8</td>\n",
       "      <td>45</td>\n",
       "      <td>0.939080</td>\n",
       "      <td>4</td>\n",
       "      <td>1.0</td>\n",
       "      <td>2</td>\n",
       "      <td>0</td>\n",
       "      <td>0</td>\n",
       "      <td>0</td>\n",
       "      <td>0</td>\n",
       "      <td>0</td>\n",
       "      <td>1</td>\n",
       "    </tr>\n",
       "  </tbody>\n",
       "</table>\n",
       "</div>"
      ],
      "text/plain": [
       "   ID  Age  Experience  Income  ZIP.Code  Family  CCAvg  Education  Mortgage  \\\n",
       "0   1   25           1      49  0.936527       4    1.6          1         0   \n",
       "1   2   45          19      34  0.924872       3    1.5          1         0   \n",
       "2   3   39          15      11  0.977892       1    1.0          1         0   \n",
       "3   4   35           9     100  0.970931       1    2.7          2         0   \n",
       "4   5   35           8      45  0.939080       4    1.0          2         0   \n",
       "\n",
       "   Personal.Loan  Securities.Account  CD.Account  Online  CreditCard  \n",
       "0              0                   1           0       0           0  \n",
       "1              0                   1           0       0           0  \n",
       "2              0                   0           0       0           0  \n",
       "3              0                   0           0       0           0  \n",
       "4              0                   0           0       0           1  "
      ]
     },
     "execution_count": 30,
     "metadata": {},
     "output_type": "execute_result"
    }
   ],
   "source": [
    "df1.head()"
   ]
  },
  {
   "cell_type": "markdown",
   "metadata": {},
   "source": [
    "##### Drop any irrelevant columns."
   ]
  },
  {
   "cell_type": "code",
   "execution_count": 31,
   "metadata": {},
   "outputs": [],
   "source": [
    "# We will drop the \"ID\" column so it is not considered into the Mashine Learning algorithms.\n",
    "df1.drop(columns=['ID'], inplace=True)"
   ]
  },
  {
   "cell_type": "code",
   "execution_count": 32,
   "metadata": {},
   "outputs": [
    {
     "data": {
      "text/html": [
       "<div>\n",
       "<style scoped>\n",
       "    .dataframe tbody tr th:only-of-type {\n",
       "        vertical-align: middle;\n",
       "    }\n",
       "\n",
       "    .dataframe tbody tr th {\n",
       "        vertical-align: top;\n",
       "    }\n",
       "\n",
       "    .dataframe thead th {\n",
       "        text-align: right;\n",
       "    }\n",
       "</style>\n",
       "<table border=\"1\" class=\"dataframe\">\n",
       "  <thead>\n",
       "    <tr style=\"text-align: right;\">\n",
       "      <th></th>\n",
       "      <th>Age</th>\n",
       "      <th>Experience</th>\n",
       "      <th>Income</th>\n",
       "      <th>ZIP.Code</th>\n",
       "      <th>Family</th>\n",
       "      <th>CCAvg</th>\n",
       "      <th>Education</th>\n",
       "      <th>Mortgage</th>\n",
       "      <th>Personal.Loan</th>\n",
       "      <th>Securities.Account</th>\n",
       "      <th>CD.Account</th>\n",
       "      <th>Online</th>\n",
       "      <th>CreditCard</th>\n",
       "    </tr>\n",
       "  </thead>\n",
       "  <tbody>\n",
       "    <tr>\n",
       "      <th>0</th>\n",
       "      <td>25</td>\n",
       "      <td>1</td>\n",
       "      <td>49</td>\n",
       "      <td>0.936527</td>\n",
       "      <td>4</td>\n",
       "      <td>1.6</td>\n",
       "      <td>1</td>\n",
       "      <td>0</td>\n",
       "      <td>0</td>\n",
       "      <td>1</td>\n",
       "      <td>0</td>\n",
       "      <td>0</td>\n",
       "      <td>0</td>\n",
       "    </tr>\n",
       "    <tr>\n",
       "      <th>1</th>\n",
       "      <td>45</td>\n",
       "      <td>19</td>\n",
       "      <td>34</td>\n",
       "      <td>0.924872</td>\n",
       "      <td>3</td>\n",
       "      <td>1.5</td>\n",
       "      <td>1</td>\n",
       "      <td>0</td>\n",
       "      <td>0</td>\n",
       "      <td>1</td>\n",
       "      <td>0</td>\n",
       "      <td>0</td>\n",
       "      <td>0</td>\n",
       "    </tr>\n",
       "    <tr>\n",
       "      <th>2</th>\n",
       "      <td>39</td>\n",
       "      <td>15</td>\n",
       "      <td>11</td>\n",
       "      <td>0.977892</td>\n",
       "      <td>1</td>\n",
       "      <td>1.0</td>\n",
       "      <td>1</td>\n",
       "      <td>0</td>\n",
       "      <td>0</td>\n",
       "      <td>0</td>\n",
       "      <td>0</td>\n",
       "      <td>0</td>\n",
       "      <td>0</td>\n",
       "    </tr>\n",
       "    <tr>\n",
       "      <th>3</th>\n",
       "      <td>35</td>\n",
       "      <td>9</td>\n",
       "      <td>100</td>\n",
       "      <td>0.970931</td>\n",
       "      <td>1</td>\n",
       "      <td>2.7</td>\n",
       "      <td>2</td>\n",
       "      <td>0</td>\n",
       "      <td>0</td>\n",
       "      <td>0</td>\n",
       "      <td>0</td>\n",
       "      <td>0</td>\n",
       "      <td>0</td>\n",
       "    </tr>\n",
       "    <tr>\n",
       "      <th>4</th>\n",
       "      <td>35</td>\n",
       "      <td>8</td>\n",
       "      <td>45</td>\n",
       "      <td>0.939080</td>\n",
       "      <td>4</td>\n",
       "      <td>1.0</td>\n",
       "      <td>2</td>\n",
       "      <td>0</td>\n",
       "      <td>0</td>\n",
       "      <td>0</td>\n",
       "      <td>0</td>\n",
       "      <td>0</td>\n",
       "      <td>1</td>\n",
       "    </tr>\n",
       "  </tbody>\n",
       "</table>\n",
       "</div>"
      ],
      "text/plain": [
       "   Age  Experience  Income  ZIP.Code  Family  CCAvg  Education  Mortgage  \\\n",
       "0   25           1      49  0.936527       4    1.6          1         0   \n",
       "1   45          19      34  0.924872       3    1.5          1         0   \n",
       "2   39          15      11  0.977892       1    1.0          1         0   \n",
       "3   35           9     100  0.970931       1    2.7          2         0   \n",
       "4   35           8      45  0.939080       4    1.0          2         0   \n",
       "\n",
       "   Personal.Loan  Securities.Account  CD.Account  Online  CreditCard  \n",
       "0              0                   1           0       0           0  \n",
       "1              0                   1           0       0           0  \n",
       "2              0                   0           0       0           0  \n",
       "3              0                   0           0       0           0  \n",
       "4              0                   0           0       0           1  "
      ]
     },
     "execution_count": 32,
     "metadata": {},
     "output_type": "execute_result"
    }
   ],
   "source": [
    "df1.head()"
   ]
  },
  {
   "cell_type": "markdown",
   "metadata": {},
   "source": [
    "## 2.1) Random Forest model implementation"
   ]
  },
  {
   "cell_type": "code",
   "execution_count": 33,
   "metadata": {},
   "outputs": [],
   "source": [
    "# Split the data into features and target label\n",
    "X1 = df1.drop('Personal.Loan', axis=1)\n",
    "y1 = df1['Personal.Loan']\n",
    "\n",
    "X_train1, X_test1, y_train1, y_test1 = train_test_split(X1, y1, test_size=0.2, random_state=42)"
   ]
  },
  {
   "cell_type": "code",
   "execution_count": 34,
   "metadata": {},
   "outputs": [
    {
     "name": "stdout",
     "output_type": "stream",
     "text": [
      "Random Forest Classifier Accuracy: 0.99\n"
     ]
    }
   ],
   "source": [
    "# Creating a random forest classifier\n",
    "rfcModel = RandomForestClassifier(n_estimators=100, random_state=42)\n",
    "\n",
    "rfcModel.fit(X_train1, y_train1)\n",
    "\n",
    "rfcPredictions = rfcModel.predict(X_test1)\n",
    "\n",
    "# Calculate the accuracy of the model\n",
    "rfcAccuracy = accuracy_score(y_test1, rfcPredictions)\n",
    "print('Random Forest Classifier Accuracy:', rfcAccuracy)"
   ]
  },
  {
   "cell_type": "markdown",
   "metadata": {},
   "source": [
    "## 2.2) Hyperparameter tuning for the Random Forest model"
   ]
  },
  {
   "cell_type": "code",
   "execution_count": 35,
   "metadata": {},
   "outputs": [
    {
     "name": "stdout",
     "output_type": "stream",
     "text": [
      "Fitting 3 folds for each of 972 candidates, totalling 2916 fits\n"
     ]
    },
    {
     "name": "stderr",
     "output_type": "stream",
     "text": [
      "c:\\Users\\most2\\anaconda3\\Lib\\site-packages\\sklearn\\model_selection\\_validation.py:425: FitFailedWarning: \n",
      "972 fits failed out of a total of 2916.\n",
      "The score on these train-test partitions for these parameters will be set to nan.\n",
      "If these failures are not expected, you can try to debug them by setting error_score='raise'.\n",
      "\n",
      "Below are more details about the failures:\n",
      "--------------------------------------------------------------------------------\n",
      "543 fits failed with the following error:\n",
      "Traceback (most recent call last):\n",
      "  File \"c:\\Users\\most2\\anaconda3\\Lib\\site-packages\\sklearn\\model_selection\\_validation.py\", line 732, in _fit_and_score\n",
      "    estimator.fit(X_train, y_train, **fit_params)\n",
      "  File \"c:\\Users\\most2\\anaconda3\\Lib\\site-packages\\sklearn\\base.py\", line 1144, in wrapper\n",
      "    estimator._validate_params()\n",
      "  File \"c:\\Users\\most2\\anaconda3\\Lib\\site-packages\\sklearn\\base.py\", line 637, in _validate_params\n",
      "    validate_parameter_constraints(\n",
      "  File \"c:\\Users\\most2\\anaconda3\\Lib\\site-packages\\sklearn\\utils\\_param_validation.py\", line 95, in validate_parameter_constraints\n",
      "    raise InvalidParameterError(\n",
      "sklearn.utils._param_validation.InvalidParameterError: The 'max_features' parameter of RandomForestClassifier must be an int in the range [1, inf), a float in the range (0.0, 1.0], a str among {'sqrt', 'log2'} or None. Got 'auto' instead.\n",
      "\n",
      "--------------------------------------------------------------------------------\n",
      "429 fits failed with the following error:\n",
      "Traceback (most recent call last):\n",
      "  File \"c:\\Users\\most2\\anaconda3\\Lib\\site-packages\\sklearn\\model_selection\\_validation.py\", line 732, in _fit_and_score\n",
      "    estimator.fit(X_train, y_train, **fit_params)\n",
      "  File \"c:\\Users\\most2\\anaconda3\\Lib\\site-packages\\sklearn\\base.py\", line 1144, in wrapper\n",
      "    estimator._validate_params()\n",
      "  File \"c:\\Users\\most2\\anaconda3\\Lib\\site-packages\\sklearn\\base.py\", line 637, in _validate_params\n",
      "    validate_parameter_constraints(\n",
      "  File \"c:\\Users\\most2\\anaconda3\\Lib\\site-packages\\sklearn\\utils\\_param_validation.py\", line 95, in validate_parameter_constraints\n",
      "    raise InvalidParameterError(\n",
      "sklearn.utils._param_validation.InvalidParameterError: The 'max_features' parameter of RandomForestClassifier must be an int in the range [1, inf), a float in the range (0.0, 1.0], a str among {'log2', 'sqrt'} or None. Got 'auto' instead.\n",
      "\n",
      "  warnings.warn(some_fits_failed_message, FitFailedWarning)\n",
      "c:\\Users\\most2\\anaconda3\\Lib\\site-packages\\sklearn\\model_selection\\_search.py:976: UserWarning: One or more of the test scores are non-finite: [       nan        nan        nan        nan        nan        nan\n",
      "        nan        nan        nan        nan        nan        nan\n",
      "        nan        nan        nan        nan        nan        nan\n",
      "        nan        nan        nan        nan        nan        nan\n",
      "        nan        nan        nan 0.98349962 0.98324956 0.98324975\n",
      " 0.98225025 0.98250012 0.98275    0.98200037 0.98225006 0.98299987\n",
      " 0.98150025 0.98250012 0.98275    0.98275037 0.98200019 0.98200019\n",
      " 0.98249994 0.98249994 0.98200037 0.98175012 0.98200037 0.98200037\n",
      " 0.98175012 0.98200037 0.98200037 0.98225025 0.98225006 0.98200019\n",
      " 0.98349962 0.98324956 0.98324975 0.98225025 0.98250012 0.98275\n",
      " 0.98200037 0.98225006 0.98299987 0.98150025 0.98250012 0.98275\n",
      " 0.98275037 0.98200019 0.98200019 0.98249994 0.98249994 0.98200037\n",
      " 0.98175012 0.98200037 0.98200037 0.98175012 0.98200037 0.98200037\n",
      " 0.98225025 0.98225006 0.98200019        nan        nan        nan\n",
      "        nan        nan        nan        nan        nan        nan\n",
      "        nan        nan        nan        nan        nan        nan\n",
      "        nan        nan        nan        nan        nan        nan\n",
      "        nan        nan        nan        nan        nan        nan\n",
      " 0.98374969 0.98349962 0.98349962 0.98325012 0.98349981 0.98324975\n",
      " 0.98200019 0.98274981 0.98299987 0.98249994 0.98299969 0.98299969\n",
      " 0.9825005  0.98250012 0.98299987 0.98175012 0.98250012 0.98250012\n",
      " 0.98150044 0.98150062 0.98125056 0.98150044 0.98150062 0.98125056\n",
      " 0.98150044 0.98175012 0.98199981 0.98374969 0.98349962 0.98349962\n",
      " 0.98325012 0.98349981 0.98324975 0.98200019 0.98274981 0.98299987\n",
      " 0.98249994 0.98299969 0.98299969 0.9825005  0.98250012 0.98299987\n",
      " 0.98175012 0.98250012 0.98250012 0.98150044 0.98150062 0.98125056\n",
      " 0.98150044 0.98150062 0.98125056 0.98150044 0.98175012 0.98199981\n",
      "        nan        nan        nan        nan        nan        nan\n",
      "        nan        nan        nan        nan        nan        nan\n",
      "        nan        nan        nan        nan        nan        nan\n",
      "        nan        nan        nan        nan        nan        nan\n",
      "        nan        nan        nan 0.98374969 0.98349962 0.98349962\n",
      " 0.98325012 0.98349981 0.98324975 0.98200019 0.98274981 0.98299987\n",
      " 0.98249994 0.98299969 0.98299969 0.9825005  0.98250012 0.98299987\n",
      " 0.98175012 0.98250012 0.98250012 0.98150044 0.98150062 0.98125056\n",
      " 0.98150044 0.98150062 0.98125056 0.98150044 0.98175012 0.98199981\n",
      " 0.98374969 0.98349962 0.98349962 0.98325012 0.98349981 0.98324975\n",
      " 0.98200019 0.98274981 0.98299987 0.98249994 0.98299969 0.98299969\n",
      " 0.9825005  0.98250012 0.98299987 0.98175012 0.98250012 0.98250012\n",
      " 0.98150044 0.98150062 0.98125056 0.98150044 0.98150062 0.98125056\n",
      " 0.98150044 0.98175012 0.98199981        nan        nan        nan\n",
      "        nan        nan        nan        nan        nan        nan\n",
      "        nan        nan        nan        nan        nan        nan\n",
      "        nan        nan        nan        nan        nan        nan\n",
      "        nan        nan        nan        nan        nan        nan\n",
      " 0.98374969 0.98349962 0.98349962 0.98325012 0.98349981 0.98324975\n",
      " 0.98200019 0.98274981 0.98299987 0.98249994 0.98299969 0.98299969\n",
      " 0.9825005  0.98250012 0.98299987 0.98175012 0.98250012 0.98250012\n",
      " 0.98150044 0.98150062 0.98125056 0.98150044 0.98150062 0.98125056\n",
      " 0.98150044 0.98175012 0.98199981 0.98374969 0.98349962 0.98349962\n",
      " 0.98325012 0.98349981 0.98324975 0.98200019 0.98274981 0.98299987\n",
      " 0.98249994 0.98299969 0.98299969 0.9825005  0.98250012 0.98299987\n",
      " 0.98175012 0.98250012 0.98250012 0.98150044 0.98150062 0.98125056\n",
      " 0.98150044 0.98150062 0.98125056 0.98150044 0.98175012 0.98199981\n",
      "        nan        nan        nan        nan        nan        nan\n",
      "        nan        nan        nan        nan        nan        nan\n",
      "        nan        nan        nan        nan        nan        nan\n",
      "        nan        nan        nan        nan        nan        nan\n",
      "        nan        nan        nan 0.98374969 0.98349962 0.98349962\n",
      " 0.98325012 0.98349981 0.98324975 0.98200019 0.98274981 0.98299987\n",
      " 0.98249994 0.98299969 0.98299969 0.9825005  0.98250012 0.98299987\n",
      " 0.98175012 0.98250012 0.98250012 0.98150044 0.98150062 0.98125056\n",
      " 0.98150044 0.98150062 0.98125056 0.98150044 0.98175012 0.98199981\n",
      " 0.98374969 0.98349962 0.98349962 0.98325012 0.98349981 0.98324975\n",
      " 0.98200019 0.98274981 0.98299987 0.98249994 0.98299969 0.98299969\n",
      " 0.9825005  0.98250012 0.98299987 0.98175012 0.98250012 0.98250012\n",
      " 0.98150044 0.98150062 0.98125056 0.98150044 0.98150062 0.98125056\n",
      " 0.98150044 0.98175012 0.98199981        nan        nan        nan\n",
      "        nan        nan        nan        nan        nan        nan\n",
      "        nan        nan        nan        nan        nan        nan\n",
      "        nan        nan        nan        nan        nan        nan\n",
      "        nan        nan        nan        nan        nan        nan\n",
      " 0.98374969 0.98349962 0.98349962 0.98325012 0.98349981 0.98324975\n",
      " 0.98200019 0.98274981 0.98299987 0.98249994 0.98299969 0.98299969\n",
      " 0.9825005  0.98250012 0.98299987 0.98175012 0.98250012 0.98250012\n",
      " 0.98150044 0.98150062 0.98125056 0.98150044 0.98150062 0.98125056\n",
      " 0.98150044 0.98175012 0.98199981 0.98374969 0.98349962 0.98349962\n",
      " 0.98325012 0.98349981 0.98324975 0.98200019 0.98274981 0.98299987\n",
      " 0.98249994 0.98299969 0.98299969 0.9825005  0.98250012 0.98299987\n",
      " 0.98175012 0.98250012 0.98250012 0.98150044 0.98150062 0.98125056\n",
      " 0.98150044 0.98150062 0.98125056 0.98150044 0.98175012 0.98199981\n",
      "        nan        nan        nan        nan        nan        nan\n",
      "        nan        nan        nan        nan        nan        nan\n",
      "        nan        nan        nan        nan        nan        nan\n",
      "        nan        nan        nan        nan        nan        nan\n",
      "        nan        nan        nan 0.9852495  0.98474919 0.98499944\n",
      " 0.98449931 0.98474919 0.984749   0.98374969 0.9837495  0.9837495\n",
      " 0.98324937 0.98399937 0.98349962 0.98399919 0.98449912 0.98449931\n",
      " 0.98249975 0.98324937 0.98349962 0.98399937 0.98424925 0.98374931\n",
      " 0.98399937 0.98424925 0.98374931 0.98349944 0.98324975 0.98324975\n",
      " 0.9852495  0.98474919 0.98499944 0.98449931 0.98474919 0.984749\n",
      " 0.98374969 0.9837495  0.9837495  0.98324937 0.98399937 0.98349962\n",
      " 0.98399919 0.98449912 0.98449931 0.98249975 0.98324937 0.98349962\n",
      " 0.98399937 0.98424925 0.98374931 0.98399937 0.98424925 0.98374931\n",
      " 0.98349944 0.98324975 0.98324975        nan        nan        nan\n",
      "        nan        nan        nan        nan        nan        nan\n",
      "        nan        nan        nan        nan        nan        nan\n",
      "        nan        nan        nan        nan        nan        nan\n",
      "        nan        nan        nan        nan        nan        nan\n",
      " 0.98449931 0.98474919 0.985499   0.9844995  0.98449931 0.98449931\n",
      " 0.98424944 0.9837495  0.9837495  0.98374931 0.98424944 0.98424944\n",
      " 0.98499944 0.98474975 0.98449969 0.98424944 0.98424962 0.9837495\n",
      " 0.98349962 0.98424944 0.98424944 0.98349962 0.98424944 0.98424944\n",
      " 0.9837495  0.98299969 0.98299969 0.98449931 0.98474919 0.985499\n",
      " 0.9844995  0.98449931 0.98449931 0.98424944 0.9837495  0.9837495\n",
      " 0.98374931 0.98424944 0.98424944 0.98499944 0.98474975 0.98449969\n",
      " 0.98424944 0.98424962 0.9837495  0.98349962 0.98424944 0.98424944\n",
      " 0.98349962 0.98424944 0.98424944 0.9837495  0.98299969 0.98299969\n",
      "        nan        nan        nan        nan        nan        nan\n",
      "        nan        nan        nan        nan        nan        nan\n",
      "        nan        nan        nan        nan        nan        nan\n",
      "        nan        nan        nan        nan        nan        nan\n",
      "        nan        nan        nan 0.98449931 0.98474919 0.985499\n",
      " 0.9844995  0.98449931 0.98449931 0.98424944 0.9837495  0.9837495\n",
      " 0.98374931 0.98424944 0.98424944 0.98499944 0.98474975 0.98449969\n",
      " 0.98424944 0.98424962 0.98349962 0.98349962 0.98424944 0.98424944\n",
      " 0.98349962 0.98424944 0.98424944 0.9837495  0.98299969 0.98299969\n",
      " 0.98449931 0.98474919 0.985499   0.9844995  0.98449931 0.98449931\n",
      " 0.98424944 0.9837495  0.9837495  0.98374931 0.98424944 0.98424944\n",
      " 0.98499944 0.98474975 0.98449969 0.98424944 0.98424962 0.98349962\n",
      " 0.98349962 0.98424944 0.98424944 0.98349962 0.98424944 0.98424944\n",
      " 0.9837495  0.98299969 0.98299969        nan        nan        nan\n",
      "        nan        nan        nan        nan        nan        nan\n",
      "        nan        nan        nan        nan        nan        nan\n",
      "        nan        nan        nan        nan        nan        nan\n",
      "        nan        nan        nan        nan        nan        nan\n",
      " 0.98449931 0.98474919 0.985499   0.9844995  0.98449931 0.98449931\n",
      " 0.98424944 0.9837495  0.9837495  0.98374931 0.98424944 0.98424944\n",
      " 0.98499944 0.98474975 0.98449969 0.98424944 0.98424962 0.98349962\n",
      " 0.98349962 0.98424944 0.98424944 0.98349962 0.98424944 0.98424944\n",
      " 0.9837495  0.98299969 0.98299969 0.98449931 0.98474919 0.985499\n",
      " 0.9844995  0.98449931 0.98449931 0.98424944 0.9837495  0.9837495\n",
      " 0.98374931 0.98424944 0.98424944 0.98499944 0.98474975 0.98449969\n",
      " 0.98424944 0.98424962 0.98349962 0.98349962 0.98424944 0.98424944\n",
      " 0.98349962 0.98424944 0.98424944 0.9837495  0.98299969 0.98299969\n",
      "        nan        nan        nan        nan        nan        nan\n",
      "        nan        nan        nan        nan        nan        nan\n",
      "        nan        nan        nan        nan        nan        nan\n",
      "        nan        nan        nan        nan        nan        nan\n",
      "        nan        nan        nan 0.98449931 0.98474919 0.985499\n",
      " 0.9844995  0.98449931 0.98449931 0.98424944 0.9837495  0.9837495\n",
      " 0.98374931 0.98424944 0.98424944 0.98499944 0.98474975 0.98449969\n",
      " 0.98424944 0.98424962 0.98349962 0.98349962 0.98424944 0.98424944\n",
      " 0.98349962 0.98424944 0.98424944 0.9837495  0.98299969 0.98299969\n",
      " 0.98449931 0.98474919 0.985499   0.9844995  0.98449931 0.98449931\n",
      " 0.98424944 0.9837495  0.9837495  0.98374931 0.98424944 0.98424944\n",
      " 0.98499944 0.98474975 0.98449969 0.98424944 0.98424962 0.98349962\n",
      " 0.98349962 0.98424944 0.98424944 0.98349962 0.98424944 0.98424944\n",
      " 0.9837495  0.98299969 0.98299969        nan        nan        nan\n",
      "        nan        nan        nan        nan        nan        nan\n",
      "        nan        nan        nan        nan        nan        nan\n",
      "        nan        nan        nan        nan        nan        nan\n",
      "        nan        nan        nan        nan        nan        nan\n",
      " 0.98449931 0.98474919 0.985499   0.9844995  0.98449931 0.98449931\n",
      " 0.98424944 0.9837495  0.9837495  0.98374931 0.98424944 0.98424944\n",
      " 0.98499944 0.98474975 0.98449969 0.98424944 0.98424962 0.98349962\n",
      " 0.98349962 0.98424944 0.98424944 0.98349962 0.98424944 0.98424944\n",
      " 0.9837495  0.98299969 0.98299969 0.98449931 0.98474919 0.985499\n",
      " 0.9844995  0.98449931 0.98449931 0.98424944 0.9837495  0.9837495\n",
      " 0.98374931 0.98424944 0.98424944 0.98499944 0.98474975 0.98449969\n",
      " 0.98424944 0.98424962 0.98349962 0.98349962 0.98424944 0.98424944\n",
      " 0.98349962 0.98424944 0.98424944 0.9837495  0.98299969 0.98299969]\n",
      "  warnings.warn(\n"
     ]
    },
    {
     "name": "stdout",
     "output_type": "stream",
     "text": [
      "{'bootstrap': False, 'max_depth': 20, 'max_features': 'sqrt', 'min_samples_leaf': 1, 'min_samples_split': 2, 'n_estimators': 300}\n",
      "RandomForestClassifier(bootstrap=False, max_depth=20, n_estimators=300,\n",
      "                       random_state=42)\n",
      "0.9854989984377654\n"
     ]
    }
   ],
   "source": [
    "# Hyperparameter tuning using grid search\n",
    "\n",
    "# Create the parameter grid\n",
    "param_gridRFC = {\n",
    "    'n_estimators': [100, 200, 300],\n",
    "    'max_features': ['auto', 'sqrt', 'log2'],\n",
    "    'max_depth': [10, 20, 30, 40, 50, None],\n",
    "    'min_samples_split': [2, 5, 10],\n",
    "    'min_samples_leaf': [1, 2, 4],\n",
    "    'bootstrap': [True, False]\n",
    "}\n",
    "\n",
    "# Create a base model\n",
    "rfc = RandomForestClassifier(random_state=42)\n",
    "\n",
    "# Instantiate the grid search model\n",
    "grid_searchRFC = GridSearchCV(estimator=rfc, param_grid=param_gridRFC, cv=3, n_jobs=-1, verbose=2)\n",
    "\n",
    "# Fit the grid search to the data\n",
    "grid_searchRFC.fit(X_train1, y_train1)\n",
    "\n",
    "# Print the best parameters\n",
    "print(grid_searchRFC.best_params_)\n",
    "print(grid_searchRFC.best_estimator_)\n",
    "print(grid_searchRFC.best_score_)\n",
    "\n",
    "\n",
    "# The results:\n",
    "\n",
    "# Best Params: {'bootstrap': False, 'max_depth': 20, 'max_features': 'sqrt', 'min_samples_leaf': 1, 'min_samples_split': 2, 'n_estimators': 300}\n",
    "# Classifier: RandomForestClassifier(bootstrap=False, max_depth=20, n_estimators=300, random_state=42)\n",
    "# Score: 0.9854989984377654"
   ]
  },
  {
   "cell_type": "markdown",
   "metadata": {},
   "source": [
    "## 2.3) Evaluation of the Random Forest model"
   ]
  },
  {
   "cell_type": "code",
   "execution_count": 36,
   "metadata": {},
   "outputs": [
    {
     "name": "stdout",
     "output_type": "stream",
     "text": [
      "Best Classifier Accuracy: 0.991\n",
      "Best Classifier Precision: 0.98\n",
      "Best Classifier Recall: 0.9333333333333333\n",
      "Best Classifier F1 Score: 0.9560975609756097\n"
     ]
    },
    {
     "data": {
      "image/png": "[encoded data removed]",
      "text/plain": [
       "<Figure size 640x480 with 2 Axes>"
      ]
     },
     "metadata": {},
     "output_type": "display_data"
    }
   ],
   "source": [
    "bestRFCModel = grid_searchRFC.best_estimator_\n",
    "evaluate(bestRFCModel, y_test1, X_test1)"
   ]
  },
  {
   "cell_type": "markdown",
   "metadata": {},
   "source": [
    "## 3.1) AdaBoost model implementation"
   ]
  },
  {
   "cell_type": "code",
   "execution_count": 37,
   "metadata": {},
   "outputs": [
    {
     "name": "stdout",
     "output_type": "stream",
     "text": [
      "AdaBoost Classifier Accuracy: 0.97\n"
     ]
    }
   ],
   "source": [
    "# Creating a AdaBoost classifier\n",
    "abcModel = AdaBoostClassifier(n_estimators=100, random_state=42)\n",
    "\n",
    "abcModel.fit(X_train1, y_train1)\n",
    "\n",
    "abcPredictions = abcModel.predict(X_test1)\n",
    "\n",
    "# Calculate the accuracy of the model\n",
    "abcAccuracy = accuracy_score(y_test1, abcPredictions)\n",
    "print('AdaBoost Classifier Accuracy:', abcAccuracy)"
   ]
  },
  {
   "cell_type": "markdown",
   "metadata": {},
   "source": [
    "## 3.2) Hyperparameter tuning for the AdaBoost model"
   ]
  },
  {
   "cell_type": "code",
   "execution_count": 38,
   "metadata": {},
   "outputs": [
    {
     "name": "stdout",
     "output_type": "stream",
     "text": [
      "Fitting 3 folds for each of 15 candidates, totalling 45 fits\n",
      "{'learning_rate': 0.1, 'n_estimators': 200}\n",
      "AdaBoostClassifier(learning_rate=0.1, n_estimators=200, random_state=42)\n",
      "0.9662513079544249\n"
     ]
    }
   ],
   "source": [
    "# Hyperparameter tuning using grid search\n",
    "\n",
    "# Create the parameter grid\n",
    "param_gridABC = {\n",
    "    'n_estimators': [50, 100, 200],\n",
    "    'learning_rate': [0.01, 0.05, 0.1, 0.3, 1]\n",
    "}\n",
    "\n",
    "# Create a base model\n",
    "abcModel = AdaBoostClassifier(random_state=42)\n",
    "\n",
    "# Instantiate the grid search model\n",
    "grid_searchABC = GridSearchCV(estimator=abcModel, param_grid=param_gridABC, cv=3, n_jobs=-1, verbose=2)\n",
    "\n",
    "# Fit the grid search to the data\n",
    "grid_searchABC.fit(X_train1, y_train1)\n",
    "\n",
    "# Print the best parameters\n",
    "print(grid_searchABC.best_params_)\n",
    "print(grid_searchABC.best_estimator_)\n",
    "print(grid_searchABC.best_score_)\n",
    "\n",
    "\n",
    "# The results:\n",
    "\n",
    "# {'learning_rate': 0.1, 'n_estimators': 200}\n",
    "# AdaBoostClassifier(learning_rate=0.1, n_estimators=200, random_state=42)\n",
    "# 0.9662513079544249"
   ]
  },
  {
   "cell_type": "markdown",
   "metadata": {},
   "source": [
    "## 3.3) Evaluation of the AdaBoost model"
   ]
  },
  {
   "cell_type": "code",
   "execution_count": 39,
   "metadata": {},
   "outputs": [
    {
     "name": "stdout",
     "output_type": "stream",
     "text": [
      "Best Classifier Accuracy: 0.97\n",
      "Best Classifier Precision: 0.9518072289156626\n",
      "Best Classifier Recall: 0.7523809523809524\n",
      "Best Classifier F1 Score: 0.8404255319148937\n"
     ]
    },
    {
     "data": {
      "image/png": "[encoded data removed]",
      "text/plain": [
       "<Figure size 640x480 with 2 Axes>"
      ]
     },
     "metadata": {},
     "output_type": "display_data"
    }
   ],
   "source": [
    "evaluate(grid_searchABC.best_estimator_, y_test1, X_test1)"
   ]
  },
  {
   "cell_type": "markdown",
   "metadata": {},
   "source": [
    "## 4.1) Gradient Boost model implementation"
   ]
  },
  {
   "cell_type": "code",
   "execution_count": 40,
   "metadata": {},
   "outputs": [
    {
     "name": "stdout",
     "output_type": "stream",
     "text": [
      "Gradient Boost Classifier Accuracy: 0.97\n"
     ]
    }
   ],
   "source": [
    "# Creating a Gradient Boost classifier\n",
    "gbcModel = GradientBoostingClassifier(n_estimators=100, random_state=42)\n",
    "\n",
    "gbcModel.fit(X_train1, y_train1)\n",
    "\n",
    "gbcPredictions = gbcModel.predict(X_test1)\n",
    "\n",
    "# Calculate the accuracy of the model\n",
    "gbcAccuracy = accuracy_score(y_test1, gbcPredictions)\n",
    "print('Gradient Boost Classifier Accuracy:', abcAccuracy)"
   ]
  },
  {
   "cell_type": "markdown",
   "metadata": {},
   "source": [
    "## 4.2) Hyperparameter tuning for the Gradient Boost model"
   ]
  },
  {
   "cell_type": "code",
   "execution_count": 41,
   "metadata": {},
   "outputs": [
    {
     "name": "stdout",
     "output_type": "stream",
     "text": [
      "Fitting 3 folds for each of 1620 candidates, totalling 4860 fits\n"
     ]
    },
    {
     "name": "stderr",
     "output_type": "stream",
     "text": [
      "c:\\Users\\most2\\anaconda3\\Lib\\site-packages\\sklearn\\model_selection\\_validation.py:425: FitFailedWarning: \n",
      "1620 fits failed out of a total of 4860.\n",
      "The score on these train-test partitions for these parameters will be set to nan.\n",
      "If these failures are not expected, you can try to debug them by setting error_score='raise'.\n",
      "\n",
      "Below are more details about the failures:\n",
      "--------------------------------------------------------------------------------\n",
      "755 fits failed with the following error:\n",
      "Traceback (most recent call last):\n",
      "  File \"c:\\Users\\most2\\anaconda3\\Lib\\site-packages\\sklearn\\model_selection\\_validation.py\", line 732, in _fit_and_score\n",
      "    estimator.fit(X_train, y_train, **fit_params)\n",
      "  File \"c:\\Users\\most2\\anaconda3\\Lib\\site-packages\\sklearn\\base.py\", line 1144, in wrapper\n",
      "    estimator._validate_params()\n",
      "  File \"c:\\Users\\most2\\anaconda3\\Lib\\site-packages\\sklearn\\base.py\", line 637, in _validate_params\n",
      "    validate_parameter_constraints(\n",
      "  File \"c:\\Users\\most2\\anaconda3\\Lib\\site-packages\\sklearn\\utils\\_param_validation.py\", line 95, in validate_parameter_constraints\n",
      "    raise InvalidParameterError(\n",
      "sklearn.utils._param_validation.InvalidParameterError: The 'max_features' parameter of GradientBoostingClassifier must be an int in the range [1, inf), a float in the range (0.0, 1.0], a str among {'log2', 'sqrt'} or None. Got 'auto' instead.\n",
      "\n",
      "--------------------------------------------------------------------------------\n",
      "865 fits failed with the following error:\n",
      "Traceback (most recent call last):\n",
      "  File \"c:\\Users\\most2\\anaconda3\\Lib\\site-packages\\sklearn\\model_selection\\_validation.py\", line 732, in _fit_and_score\n",
      "    estimator.fit(X_train, y_train, **fit_params)\n",
      "  File \"c:\\Users\\most2\\anaconda3\\Lib\\site-packages\\sklearn\\base.py\", line 1144, in wrapper\n",
      "    estimator._validate_params()\n",
      "  File \"c:\\Users\\most2\\anaconda3\\Lib\\site-packages\\sklearn\\base.py\", line 637, in _validate_params\n",
      "    validate_parameter_constraints(\n",
      "  File \"c:\\Users\\most2\\anaconda3\\Lib\\site-packages\\sklearn\\utils\\_param_validation.py\", line 95, in validate_parameter_constraints\n",
      "    raise InvalidParameterError(\n",
      "sklearn.utils._param_validation.InvalidParameterError: The 'max_features' parameter of GradientBoostingClassifier must be an int in the range [1, inf), a float in the range (0.0, 1.0], a str among {'sqrt', 'log2'} or None. Got 'auto' instead.\n",
      "\n",
      "  warnings.warn(some_fits_failed_message, FitFailedWarning)\n",
      "c:\\Users\\most2\\anaconda3\\Lib\\site-packages\\sklearn\\model_selection\\_search.py:976: UserWarning: One or more of the test scores are non-finite: [       nan        nan        nan ... 0.67307438 0.71401209 0.93123768]\n",
      "  warnings.warn(\n"
     ]
    },
    {
     "name": "stdout",
     "output_type": "stream",
     "text": [
      "{'learning_rate': 0.3, 'max_depth': 3, 'max_features': 'sqrt', 'min_samples_leaf': 1, 'min_samples_split': 10, 'n_estimators': 100, 'subsample': 0.8}\n",
      "GradientBoostingClassifier(learning_rate=0.3, max_features='sqrt',\n",
      "                           min_samples_split=10, random_state=42,\n",
      "                           subsample=0.8)\n",
      "0.9859996858285037\n"
     ]
    }
   ],
   "source": [
    "# Hyperparameter tuning using grid search\n",
    "\n",
    "# Create the parameter grid\n",
    "param_gridGBC = {\n",
    "    'n_estimators': [50, 100],\n",
    "    'learning_rate': [0.01, 0.05, 0.1, 0.3, 1],\n",
    "    'max_depth': [3, 4],\n",
    "    'min_samples_split': [2, 5, 10],\n",
    "    'min_samples_leaf': [1, 2, 4],\n",
    "    'subsample': [0.8, 0.9, 1.0],\n",
    "    'max_features': ['auto', 'sqrt', 'log2']\n",
    "}\n",
    "\n",
    "# Create a base model\n",
    "gbcModel = GradientBoostingClassifier(random_state=42)\n",
    "\n",
    "# Instantiate the grid search model\n",
    "grid_searchGBC = GridSearchCV(estimator=gbcModel, param_grid=param_gridGBC, cv=3, n_jobs=-1, verbose=2)\n",
    "\n",
    "# Fit the grid search to the data\n",
    "grid_searchGBC.fit(X_train1, y_train1)\n",
    "\n",
    "# Print the best parameters\n",
    "print(grid_searchGBC.best_params_)\n",
    "print(grid_searchGBC.best_estimator_)\n",
    "print(grid_searchGBC.best_score_)\n",
    "\n",
    "\n",
    "# The results:\n",
    "\n",
    "# {'learning_rate': 0.3, 'max_depth': 3, 'max_features': 'sqrt', 'min_samples_leaf': 1, 'min_samples_split': 10, 'n_estimators': 100, 'subsample': 0.8}\n",
    "# GradientBoostingClassifier(learning_rate=0.3, max_features='sqrt',\n",
    "#                            min_samples_split=10, random_state=42,\n",
    "#                            subsample=0.8)\n",
    "# 0.9859996858285037"
   ]
  },
  {
   "cell_type": "markdown",
   "metadata": {},
   "source": [
    "## 4.3) Evaluation of the Gradient Boost model"
   ]
  },
  {
   "cell_type": "code",
   "execution_count": 42,
   "metadata": {},
   "outputs": [
    {
     "name": "stdout",
     "output_type": "stream",
     "text": [
      "Best Classifier Accuracy: 0.992\n",
      "Best Classifier Precision: 0.9801980198019802\n",
      "Best Classifier Recall: 0.9428571428571428\n",
      "Best Classifier F1 Score: 0.9611650485436893\n"
     ]
    },
    {
     "data": {
      "image/png": "[encoded data removed]",
      "text/plain": [
       "<Figure size 640x480 with 2 Axes>"
      ]
     },
     "metadata": {},
     "output_type": "display_data"
    }
   ],
   "source": [
    "evaluate(grid_searchGBC.best_estimator_, y_test1, X_test1)"
   ]
  },
  {
   "cell_type": "markdown",
   "metadata": {},
   "source": [
    "--------------------------------\n",
    "# Second Database Data Engineering Process\n",
    "\n",
    "Database name: \"data_banknote_authentication.csv\""
   ]
  },
  {
   "cell_type": "code",
   "execution_count": 43,
   "metadata": {},
   "outputs": [],
   "source": [
    "# Same exact code process as for the first database\n",
    "df2 = pd.read_csv('data_banknote_authentication.csv')"
   ]
  },
  {
   "cell_type": "code",
   "execution_count": 44,
   "metadata": {},
   "outputs": [
    {
     "data": {
      "text/html": [
       "<div>\n",
       "<style scoped>\n",
       "    .dataframe tbody tr th:only-of-type {\n",
       "        vertical-align: middle;\n",
       "    }\n",
       "\n",
       "    .dataframe tbody tr th {\n",
       "        vertical-align: top;\n",
       "    }\n",
       "\n",
       "    .dataframe thead th {\n",
       "        text-align: right;\n",
       "    }\n",
       "</style>\n",
       "<table border=\"1\" class=\"dataframe\">\n",
       "  <thead>\n",
       "    <tr style=\"text-align: right;\">\n",
       "      <th></th>\n",
       "      <th>Variance_Wavelet</th>\n",
       "      <th>Skewness_Wavelet</th>\n",
       "      <th>Curtosis_Wavelet</th>\n",
       "      <th>Image_Entropy</th>\n",
       "      <th>Class</th>\n",
       "    </tr>\n",
       "  </thead>\n",
       "  <tbody>\n",
       "    <tr>\n",
       "      <th>0</th>\n",
       "      <td>3.62160</td>\n",
       "      <td>8.6661</td>\n",
       "      <td>-2.8073</td>\n",
       "      <td>-0.44699</td>\n",
       "      <td>0</td>\n",
       "    </tr>\n",
       "    <tr>\n",
       "      <th>1</th>\n",
       "      <td>4.54590</td>\n",
       "      <td>8.1674</td>\n",
       "      <td>-2.4586</td>\n",
       "      <td>-1.46210</td>\n",
       "      <td>0</td>\n",
       "    </tr>\n",
       "    <tr>\n",
       "      <th>2</th>\n",
       "      <td>3.86600</td>\n",
       "      <td>-2.6383</td>\n",
       "      <td>1.9242</td>\n",
       "      <td>0.10645</td>\n",
       "      <td>0</td>\n",
       "    </tr>\n",
       "    <tr>\n",
       "      <th>3</th>\n",
       "      <td>3.45660</td>\n",
       "      <td>9.5228</td>\n",
       "      <td>-4.0112</td>\n",
       "      <td>-3.59440</td>\n",
       "      <td>0</td>\n",
       "    </tr>\n",
       "    <tr>\n",
       "      <th>4</th>\n",
       "      <td>0.32924</td>\n",
       "      <td>-4.4552</td>\n",
       "      <td>4.5718</td>\n",
       "      <td>-0.98880</td>\n",
       "      <td>0</td>\n",
       "    </tr>\n",
       "  </tbody>\n",
       "</table>\n",
       "</div>"
      ],
      "text/plain": [
       "   Variance_Wavelet  Skewness_Wavelet  Curtosis_Wavelet  Image_Entropy  Class\n",
       "0           3.62160            8.6661           -2.8073       -0.44699      0\n",
       "1           4.54590            8.1674           -2.4586       -1.46210      0\n",
       "2           3.86600           -2.6383            1.9242        0.10645      0\n",
       "3           3.45660            9.5228           -4.0112       -3.59440      0\n",
       "4           0.32924           -4.4552            4.5718       -0.98880      0"
      ]
     },
     "execution_count": 44,
     "metadata": {},
     "output_type": "execute_result"
    }
   ],
   "source": [
    "df2.head()"
   ]
  },
  {
   "cell_type": "markdown",
   "metadata": {},
   "source": [
    "## 1.0) Data Preprocessing"
   ]
  },
  {
   "cell_type": "markdown",
   "metadata": {},
   "source": [
    "##### Checking null values for each column."
   ]
  },
  {
   "cell_type": "code",
   "execution_count": 45,
   "metadata": {},
   "outputs": [
    {
     "name": "stdout",
     "output_type": "stream",
     "text": [
      "Variance_Wavelet    0\n",
      "Skewness_Wavelet    0\n",
      "Curtosis_Wavelet    0\n",
      "Image_Entropy       0\n",
      "Class               0\n",
      "dtype: int64\n"
     ]
    }
   ],
   "source": [
    "# Get the number of null values for each column\n",
    "null_values = df2.isnull().sum()\n",
    "print(null_values)\n",
    "\n",
    "# We have no null values!"
   ]
  },
  {
   "cell_type": "markdown",
   "metadata": {},
   "source": [
    "Checking for non numeric data"
   ]
  },
  {
   "cell_type": "code",
   "execution_count": 46,
   "metadata": {},
   "outputs": [
    {
     "name": "stdout",
     "output_type": "stream",
     "text": [
      "Index([], dtype='object')\n"
     ]
    }
   ],
   "source": [
    "non_numeric_columns = df2.select_dtypes(exclude=[np.number]).columns\n",
    "print(non_numeric_columns)\n",
    "\n",
    "# We have no non-numeric columns!"
   ]
  },
  {
   "cell_type": "markdown",
   "metadata": {},
   "source": [
    "##### Normalize the columns to contain values between 0 and 1 only, using the MinMaxScaler library. "
   ]
  },
  {
   "cell_type": "code",
   "execution_count": 47,
   "metadata": {},
   "outputs": [],
   "source": [
    "scaler = MinMaxScaler()\n",
    "\n",
    "# Extracting the column to be normalized\n",
    "column_data = df2[['Variance_Wavelet', 'Skewness_Wavelet', 'Curtosis_Wavelet', 'Image_Entropy']]\n",
    "\n",
    "# Apply MinMax scaling to the extracted column\n",
    "normalized_column_data = scaler.fit_transform(column_data)\n",
    "\n",
    "# Replacing the original column with the normalized values\n",
    "df2['Variance_Wavelet'] = normalized_column_data[:, 0]\n",
    "df2['Skewness_Wavelet'] = normalized_column_data[:, 1]\n",
    "df2['Curtosis_Wavelet'] = normalized_column_data[:, 2]\n",
    "df2['Image_Entropy'] = normalized_column_data[:, 3]"
   ]
  },
  {
   "cell_type": "code",
   "execution_count": 48,
   "metadata": {},
   "outputs": [
    {
     "data": {
      "text/html": [
       "<div>\n",
       "<style scoped>\n",
       "    .dataframe tbody tr th:only-of-type {\n",
       "        vertical-align: middle;\n",
       "    }\n",
       "\n",
       "    .dataframe tbody tr th {\n",
       "        vertical-align: top;\n",
       "    }\n",
       "\n",
       "    .dataframe thead th {\n",
       "        text-align: right;\n",
       "    }\n",
       "</style>\n",
       "<table border=\"1\" class=\"dataframe\">\n",
       "  <thead>\n",
       "    <tr style=\"text-align: right;\">\n",
       "      <th></th>\n",
       "      <th>Variance_Wavelet</th>\n",
       "      <th>Skewness_Wavelet</th>\n",
       "      <th>Curtosis_Wavelet</th>\n",
       "      <th>Image_Entropy</th>\n",
       "      <th>Class</th>\n",
       "    </tr>\n",
       "  </thead>\n",
       "  <tbody>\n",
       "    <tr>\n",
       "      <th>0</th>\n",
       "      <td>0.769004</td>\n",
       "      <td>0.839643</td>\n",
       "      <td>0.106783</td>\n",
       "      <td>0.736628</td>\n",
       "      <td>0</td>\n",
       "    </tr>\n",
       "    <tr>\n",
       "      <th>1</th>\n",
       "      <td>0.835659</td>\n",
       "      <td>0.820982</td>\n",
       "      <td>0.121804</td>\n",
       "      <td>0.644326</td>\n",
       "      <td>0</td>\n",
       "    </tr>\n",
       "    <tr>\n",
       "      <th>2</th>\n",
       "      <td>0.786629</td>\n",
       "      <td>0.416648</td>\n",
       "      <td>0.310608</td>\n",
       "      <td>0.786951</td>\n",
       "      <td>0</td>\n",
       "    </tr>\n",
       "    <tr>\n",
       "      <th>3</th>\n",
       "      <td>0.757105</td>\n",
       "      <td>0.871699</td>\n",
       "      <td>0.054921</td>\n",
       "      <td>0.450440</td>\n",
       "      <td>0</td>\n",
       "    </tr>\n",
       "    <tr>\n",
       "      <th>4</th>\n",
       "      <td>0.531578</td>\n",
       "      <td>0.348662</td>\n",
       "      <td>0.424662</td>\n",
       "      <td>0.687362</td>\n",
       "      <td>0</td>\n",
       "    </tr>\n",
       "  </tbody>\n",
       "</table>\n",
       "</div>"
      ],
      "text/plain": [
       "   Variance_Wavelet  Skewness_Wavelet  Curtosis_Wavelet  Image_Entropy  Class\n",
       "0          0.769004          0.839643          0.106783       0.736628      0\n",
       "1          0.835659          0.820982          0.121804       0.644326      0\n",
       "2          0.786629          0.416648          0.310608       0.786951      0\n",
       "3          0.757105          0.871699          0.054921       0.450440      0\n",
       "4          0.531578          0.348662          0.424662       0.687362      0"
      ]
     },
     "execution_count": 48,
     "metadata": {},
     "output_type": "execute_result"
    }
   ],
   "source": [
    "df2.head()"
   ]
  },
  {
   "cell_type": "markdown",
   "metadata": {},
   "source": [
    "##### Removing Outliers."
   ]
  },
  {
   "cell_type": "code",
   "execution_count": 49,
   "metadata": {},
   "outputs": [
    {
     "name": "stdout",
     "output_type": "stream",
     "text": [
      "Curtosis_Wavelet    59\n",
      "Image_Entropy       33\n",
      "dtype: int64\n",
      "(1372, 5)\n"
     ]
    },
    {
     "data": {
      "image/png": "[encoded data removed]",
      "text/plain": [
       "<Figure size 2000x500 with 4 Axes>"
      ]
     },
     "metadata": {},
     "output_type": "display_data"
    }
   ],
   "source": [
    "# Visualizing the data for outliers\n",
    "fig, ax = plt.subplots(1, 4, figsize=(20, 5))\n",
    "sns.boxplot(y=df2['Variance_Wavelet'], ax=ax[0])\n",
    "sns.boxplot(y=df2['Skewness_Wavelet'], ax=ax[1])\n",
    "sns.boxplot(y=df2['Curtosis_Wavelet'], ax=ax[2])\n",
    "sns.boxplot(y=df2['Image_Entropy'], ax=ax[3])\n",
    "plt.subplots_adjust(wspace=0.5)\n",
    "\n",
    "# Printing number of outliers\n",
    "Q1 = df2[['Curtosis_Wavelet', 'Image_Entropy']].quantile(0.25)\n",
    "Q3 = df2[['Curtosis_Wavelet', 'Image_Entropy']].quantile(0.75)\n",
    "IQR = Q3 - Q1\n",
    "\n",
    "outliers = ((df2[['Curtosis_Wavelet', 'Image_Entropy']] < (Q1 - 1.5 * IQR)) | (df2[['Curtosis_Wavelet', 'Image_Entropy']] > (Q3 + 1.5 * IQR))).sum()\n",
    "print(outliers)\n",
    "\n",
    "# We can see that there are outliers on columns Curtosis_Wavelet and Image_Entropy\n",
    "print(df2.shape)"
   ]
  },
  {
   "cell_type": "code",
   "execution_count": 50,
   "metadata": {},
   "outputs": [
    {
     "name": "stdout",
     "output_type": "stream",
     "text": [
      "Curtosis_Wavelet    15\n",
      "Image_Entropy       17\n",
      "dtype: int64\n",
      "(1280, 5)\n"
     ]
    },
    {
     "data": {
      "image/png": "[encoded data removed]",
      "text/plain": [
       "<Figure size 2000x500 with 2 Axes>"
      ]
     },
     "metadata": {},
     "output_type": "display_data"
    }
   ],
   "source": [
    "# Removing the outliers\n",
    "df2 = df2[~((df2[['Curtosis_Wavelet', 'Image_Entropy']] < (Q1 - 1.5 * IQR)) | (df2[['Curtosis_Wavelet', 'Image_Entropy']] > (Q3 + 1.5 * IQR))).any(axis=1)]\n",
    "\n",
    "# Visualizing the data for outliers again\n",
    "fig, ax = plt.subplots(1, 2, figsize=(20, 5))\n",
    "sns.boxplot(y=df2['Curtosis_Wavelet'], ax=ax[0])\n",
    "sns.boxplot(y=df2['Image_Entropy'], ax=ax[1])\n",
    "plt.subplots_adjust(wspace=0.5)\n",
    "\n",
    "# Printing number of outliers again\n",
    "Q1 = df2[['Curtosis_Wavelet', 'Image_Entropy']].quantile(0.25)\n",
    "Q3 = df2[['Curtosis_Wavelet', 'Image_Entropy']].quantile(0.75)\n",
    "IQR = Q3 - Q1\n",
    "\n",
    "outliers = ((df2[['Curtosis_Wavelet', 'Image_Entropy']] < (Q1 - 1.5 * IQR)) | (df2[['Curtosis_Wavelet', 'Image_Entropy']] > (Q3 + 1.5 * IQR))).sum()\n",
    "print(outliers)\n",
    "\n",
    "# Outliers have been reduced significantly\n",
    "print(df2.shape)"
   ]
  },
  {
   "cell_type": "markdown",
   "metadata": {},
   "source": [
    "## 2.1) Random Forest model implementation"
   ]
  },
  {
   "cell_type": "code",
   "execution_count": 51,
   "metadata": {},
   "outputs": [],
   "source": [
    "# Split the data into features and target label\n",
    "X2 = df2.drop('Class', axis=1)\n",
    "y2 = df2['Class']\n",
    "\n",
    "X_train2, X_test2, y_train2, y_test2 = train_test_split(X2, y2, test_size=0.2, random_state=42)"
   ]
  },
  {
   "cell_type": "code",
   "execution_count": 52,
   "metadata": {},
   "outputs": [
    {
     "name": "stdout",
     "output_type": "stream",
     "text": [
      "Random Forest Classifier Accuracy: 0.9921875\n"
     ]
    }
   ],
   "source": [
    "# Creating a random forest classifier\n",
    "rfcModel2 = RandomForestClassifier(n_estimators=100, random_state=42)\n",
    "\n",
    "rfcModel2.fit(X_train2, y_train2)\n",
    "\n",
    "rfcPredictions2 = rfcModel2.predict(X_test2)\n",
    "\n",
    "# Calculate the accuracy of the model\n",
    "rfcAccuracy2 = accuracy_score(y_test2, rfcPredictions2)\n",
    "print('Random Forest Classifier Accuracy:', rfcAccuracy2)"
   ]
  },
  {
   "cell_type": "markdown",
   "metadata": {},
   "source": [
    "## 2.2) Hyperparameter tuning for the Random Forest model"
   ]
  },
  {
   "cell_type": "code",
   "execution_count": 53,
   "metadata": {},
   "outputs": [
    {
     "name": "stdout",
     "output_type": "stream",
     "text": [
      "Fitting 3 folds for each of 972 candidates, totalling 2916 fits\n"
     ]
    },
    {
     "name": "stderr",
     "output_type": "stream",
     "text": [
      "c:\\Users\\most2\\anaconda3\\Lib\\site-packages\\sklearn\\model_selection\\_validation.py:425: FitFailedWarning: \n",
      "972 fits failed out of a total of 2916.\n",
      "The score on these train-test partitions for these parameters will be set to nan.\n",
      "If these failures are not expected, you can try to debug them by setting error_score='raise'.\n",
      "\n",
      "Below are more details about the failures:\n",
      "--------------------------------------------------------------------------------\n",
      "541 fits failed with the following error:\n",
      "Traceback (most recent call last):\n",
      "  File \"c:\\Users\\most2\\anaconda3\\Lib\\site-packages\\sklearn\\model_selection\\_validation.py\", line 732, in _fit_and_score\n",
      "    estimator.fit(X_train, y_train, **fit_params)\n",
      "  File \"c:\\Users\\most2\\anaconda3\\Lib\\site-packages\\sklearn\\base.py\", line 1144, in wrapper\n",
      "    estimator._validate_params()\n",
      "  File \"c:\\Users\\most2\\anaconda3\\Lib\\site-packages\\sklearn\\base.py\", line 637, in _validate_params\n",
      "    validate_parameter_constraints(\n",
      "  File \"c:\\Users\\most2\\anaconda3\\Lib\\site-packages\\sklearn\\utils\\_param_validation.py\", line 95, in validate_parameter_constraints\n",
      "    raise InvalidParameterError(\n",
      "sklearn.utils._param_validation.InvalidParameterError: The 'max_features' parameter of RandomForestClassifier must be an int in the range [1, inf), a float in the range (0.0, 1.0], a str among {'log2', 'sqrt'} or None. Got 'auto' instead.\n",
      "\n",
      "--------------------------------------------------------------------------------\n",
      "431 fits failed with the following error:\n",
      "Traceback (most recent call last):\n",
      "  File \"c:\\Users\\most2\\anaconda3\\Lib\\site-packages\\sklearn\\model_selection\\_validation.py\", line 732, in _fit_and_score\n",
      "    estimator.fit(X_train, y_train, **fit_params)\n",
      "  File \"c:\\Users\\most2\\anaconda3\\Lib\\site-packages\\sklearn\\base.py\", line 1144, in wrapper\n",
      "    estimator._validate_params()\n",
      "  File \"c:\\Users\\most2\\anaconda3\\Lib\\site-packages\\sklearn\\base.py\", line 637, in _validate_params\n",
      "    validate_parameter_constraints(\n",
      "  File \"c:\\Users\\most2\\anaconda3\\Lib\\site-packages\\sklearn\\utils\\_param_validation.py\", line 95, in validate_parameter_constraints\n",
      "    raise InvalidParameterError(\n",
      "sklearn.utils._param_validation.InvalidParameterError: The 'max_features' parameter of RandomForestClassifier must be an int in the range [1, inf), a float in the range (0.0, 1.0], a str among {'sqrt', 'log2'} or None. Got 'auto' instead.\n",
      "\n",
      "  warnings.warn(some_fits_failed_message, FitFailedWarning)\n",
      "c:\\Users\\most2\\anaconda3\\Lib\\site-packages\\sklearn\\model_selection\\_search.py:976: UserWarning: One or more of the test scores are non-finite: [       nan        nan        nan        nan        nan        nan\n",
      "        nan        nan        nan        nan        nan        nan\n",
      "        nan        nan        nan        nan        nan        nan\n",
      "        nan        nan        nan        nan        nan        nan\n",
      "        nan        nan        nan 0.99121378 0.99121378 0.99121378\n",
      " 0.99121378 0.99121378 0.99121378 0.98925874 0.98925874 0.99023626\n",
      " 0.99121378 0.99121378 0.99121378 0.99121378 0.99121378 0.99121378\n",
      " 0.99121378 0.99023626 0.99121378 0.99023626 0.9892616  0.99023626\n",
      " 0.99023626 0.9892616  0.99023626 0.98828123 0.99023626 0.9892616\n",
      " 0.99121378 0.99121378 0.99121378 0.99121378 0.99121378 0.99121378\n",
      " 0.98925874 0.98925874 0.99023626 0.99121378 0.99121378 0.99121378\n",
      " 0.99121378 0.99121378 0.99121378 0.99121378 0.99023626 0.99121378\n",
      " 0.99023626 0.9892616  0.99023626 0.99023626 0.9892616  0.99023626\n",
      " 0.98828123 0.99023626 0.9892616         nan        nan        nan\n",
      "        nan        nan        nan        nan        nan        nan\n",
      "        nan        nan        nan        nan        nan        nan\n",
      "        nan        nan        nan        nan        nan        nan\n",
      "        nan        nan        nan        nan        nan        nan\n",
      " 0.99121378 0.99121378 0.99121378 0.99121378 0.99121378 0.99121378\n",
      " 0.98925874 0.98925874 0.99023626 0.99121378 0.99121378 0.99121378\n",
      " 0.99121378 0.99121378 0.99121378 0.99121378 0.99023626 0.99121378\n",
      " 0.99023626 0.9892616  0.99023626 0.99023626 0.9892616  0.99023626\n",
      " 0.98828123 0.99023626 0.9892616  0.99121378 0.99121378 0.99121378\n",
      " 0.99121378 0.99121378 0.99121378 0.98925874 0.98925874 0.99023626\n",
      " 0.99121378 0.99121378 0.99121378 0.99121378 0.99121378 0.99121378\n",
      " 0.99121378 0.99023626 0.99121378 0.99023626 0.9892616  0.99023626\n",
      " 0.99023626 0.9892616  0.99023626 0.98828123 0.99023626 0.9892616\n",
      "        nan        nan        nan        nan        nan        nan\n",
      "        nan        nan        nan        nan        nan        nan\n",
      "        nan        nan        nan        nan        nan        nan\n",
      "        nan        nan        nan        nan        nan        nan\n",
      "        nan        nan        nan 0.99121378 0.99121378 0.99121378\n",
      " 0.99121378 0.99121378 0.99121378 0.98925874 0.98925874 0.99023626\n",
      " 0.99121378 0.99121378 0.99121378 0.99121378 0.99121378 0.99121378\n",
      " 0.99121378 0.99023626 0.99121378 0.99023626 0.9892616  0.99023626\n",
      " 0.99023626 0.9892616  0.99023626 0.98828123 0.99023626 0.9892616\n",
      " 0.99121378 0.99121378 0.99121378 0.99121378 0.99121378 0.99121378\n",
      " 0.98925874 0.98925874 0.99023626 0.99121378 0.99121378 0.99121378\n",
      " 0.99121378 0.99121378 0.99121378 0.99121378 0.99023626 0.99121378\n",
      " 0.99023626 0.9892616  0.99023626 0.99023626 0.9892616  0.99023626\n",
      " 0.98828123 0.99023626 0.9892616         nan        nan        nan\n",
      "        nan        nan        nan        nan        nan        nan\n",
      "        nan        nan        nan        nan        nan        nan\n",
      "        nan        nan        nan        nan        nan        nan\n",
      "        nan        nan        nan        nan        nan        nan\n",
      " 0.99121378 0.99121378 0.99121378 0.99121378 0.99121378 0.99121378\n",
      " 0.98925874 0.98925874 0.99023626 0.99121378 0.99121378 0.99121378\n",
      " 0.99121378 0.99121378 0.99121378 0.99121378 0.99023626 0.99121378\n",
      " 0.99023626 0.9892616  0.99023626 0.99023626 0.9892616  0.99023626\n",
      " 0.98828123 0.99023626 0.9892616  0.99121378 0.99121378 0.99121378\n",
      " 0.99121378 0.99121378 0.99121378 0.98925874 0.98925874 0.99023626\n",
      " 0.99121378 0.99121378 0.99121378 0.99121378 0.99121378 0.99121378\n",
      " 0.99121378 0.99023626 0.99121378 0.99023626 0.9892616  0.99023626\n",
      " 0.99023626 0.9892616  0.99023626 0.98828123 0.99023626 0.9892616\n",
      "        nan        nan        nan        nan        nan        nan\n",
      "        nan        nan        nan        nan        nan        nan\n",
      "        nan        nan        nan        nan        nan        nan\n",
      "        nan        nan        nan        nan        nan        nan\n",
      "        nan        nan        nan 0.99121378 0.99121378 0.99121378\n",
      " 0.99121378 0.99121378 0.99121378 0.98925874 0.98925874 0.99023626\n",
      " 0.99121378 0.99121378 0.99121378 0.99121378 0.99121378 0.99121378\n",
      " 0.99121378 0.99023626 0.99121378 0.99023626 0.9892616  0.99023626\n",
      " 0.99023626 0.9892616  0.99023626 0.98828123 0.99023626 0.9892616\n",
      " 0.99121378 0.99121378 0.99121378 0.99121378 0.99121378 0.99121378\n",
      " 0.98925874 0.98925874 0.99023626 0.99121378 0.99121378 0.99121378\n",
      " 0.99121378 0.99121378 0.99121378 0.99121378 0.99023626 0.99121378\n",
      " 0.99023626 0.9892616  0.99023626 0.99023626 0.9892616  0.99023626\n",
      " 0.98828123 0.99023626 0.9892616         nan        nan        nan\n",
      "        nan        nan        nan        nan        nan        nan\n",
      "        nan        nan        nan        nan        nan        nan\n",
      "        nan        nan        nan        nan        nan        nan\n",
      "        nan        nan        nan        nan        nan        nan\n",
      " 0.99121378 0.99121378 0.99121378 0.99121378 0.99121378 0.99121378\n",
      " 0.98925874 0.98925874 0.99023626 0.99121378 0.99121378 0.99121378\n",
      " 0.99121378 0.99121378 0.99121378 0.99121378 0.99023626 0.99121378\n",
      " 0.99023626 0.9892616  0.99023626 0.99023626 0.9892616  0.99023626\n",
      " 0.98828123 0.99023626 0.9892616  0.99121378 0.99121378 0.99121378\n",
      " 0.99121378 0.99121378 0.99121378 0.98925874 0.98925874 0.99023626\n",
      " 0.99121378 0.99121378 0.99121378 0.99121378 0.99121378 0.99121378\n",
      " 0.99121378 0.99023626 0.99121378 0.99023626 0.9892616  0.99023626\n",
      " 0.99023626 0.9892616  0.99023626 0.98828123 0.99023626 0.9892616\n",
      "        nan        nan        nan        nan        nan        nan\n",
      "        nan        nan        nan        nan        nan        nan\n",
      "        nan        nan        nan        nan        nan        nan\n",
      "        nan        nan        nan        nan        nan        nan\n",
      "        nan        nan        nan 0.99121664 0.9921913  0.9921913\n",
      " 0.9921913  0.99121378 0.99121378 0.9921913  0.99121378 0.99121378\n",
      " 0.99121378 0.99121664 0.99121664 0.99121378 0.9921913  0.9921913\n",
      " 0.99121378 0.99121378 0.9921913  0.9892616  0.9892616  0.9892616\n",
      " 0.9892616  0.9892616  0.9892616  0.99023912 0.99121378 0.99023912\n",
      " 0.99121664 0.9921913  0.9921913  0.9921913  0.99121378 0.99121378\n",
      " 0.9921913  0.99121378 0.99121378 0.99121378 0.99121664 0.99121664\n",
      " 0.99121378 0.9921913  0.9921913  0.99121378 0.99121378 0.9921913\n",
      " 0.9892616  0.9892616  0.9892616  0.9892616  0.9892616  0.9892616\n",
      " 0.99023912 0.99121378 0.99023912        nan        nan        nan\n",
      "        nan        nan        nan        nan        nan        nan\n",
      "        nan        nan        nan        nan        nan        nan\n",
      "        nan        nan        nan        nan        nan        nan\n",
      "        nan        nan        nan        nan        nan        nan\n",
      " 0.99121664 0.9921913  0.9921913  0.9921913  0.9921913  0.99121378\n",
      " 0.9921913  0.99121378 0.9921913  0.99121378 0.99121664 0.99121664\n",
      " 0.99121378 0.9921913  0.9921913  0.99121378 0.99121378 0.9921913\n",
      " 0.9892616  0.9892616  0.9892616  0.9892616  0.9892616  0.9892616\n",
      " 0.99023912 0.99121378 0.99023912 0.99121664 0.9921913  0.9921913\n",
      " 0.9921913  0.9921913  0.99121378 0.9921913  0.99121378 0.9921913\n",
      " 0.99121378 0.99121664 0.99121664 0.99121378 0.9921913  0.9921913\n",
      " 0.99121378 0.99121378 0.9921913  0.9892616  0.9892616  0.9892616\n",
      " 0.9892616  0.9892616  0.9892616  0.99023912 0.99121378 0.99023912\n",
      "        nan        nan        nan        nan        nan        nan\n",
      "        nan        nan        nan        nan        nan        nan\n",
      "        nan        nan        nan        nan        nan        nan\n",
      "        nan        nan        nan        nan        nan        nan\n",
      "        nan        nan        nan 0.99121664 0.9921913  0.9921913\n",
      " 0.9921913  0.9921913  0.99121378 0.9921913  0.99121378 0.9921913\n",
      " 0.99121378 0.99121664 0.99121664 0.99121378 0.9921913  0.9921913\n",
      " 0.99121378 0.99121378 0.9921913  0.9892616  0.9892616  0.9892616\n",
      " 0.9892616  0.9892616  0.9892616  0.99023912 0.99121378 0.99023912\n",
      " 0.99121664 0.9921913  0.9921913  0.9921913  0.9921913  0.99121378\n",
      " 0.9921913  0.99121378 0.9921913  0.99121378 0.99121664 0.99121664\n",
      " 0.99121378 0.9921913  0.9921913  0.99121378 0.99121378 0.9921913\n",
      " 0.9892616  0.9892616  0.9892616  0.9892616  0.9892616  0.9892616\n",
      " 0.99023912 0.99121378 0.99023912        nan        nan        nan\n",
      "        nan        nan        nan        nan        nan        nan\n",
      "        nan        nan        nan        nan        nan        nan\n",
      "        nan        nan        nan        nan        nan        nan\n",
      "        nan        nan        nan        nan        nan        nan\n",
      " 0.99121664 0.9921913  0.9921913  0.9921913  0.9921913  0.99121378\n",
      " 0.9921913  0.99121378 0.9921913  0.99121378 0.99121664 0.99121664\n",
      " 0.99121378 0.9921913  0.9921913  0.99121378 0.99121378 0.9921913\n",
      " 0.9892616  0.9892616  0.9892616  0.9892616  0.9892616  0.9892616\n",
      " 0.99023912 0.99121378 0.99023912 0.99121664 0.9921913  0.9921913\n",
      " 0.9921913  0.9921913  0.99121378 0.9921913  0.99121378 0.9921913\n",
      " 0.99121378 0.99121664 0.99121664 0.99121378 0.9921913  0.9921913\n",
      " 0.99121378 0.99121378 0.9921913  0.9892616  0.9892616  0.9892616\n",
      " 0.9892616  0.9892616  0.9892616  0.99023912 0.99121378 0.99023912\n",
      "        nan        nan        nan        nan        nan        nan\n",
      "        nan        nan        nan        nan        nan        nan\n",
      "        nan        nan        nan        nan        nan        nan\n",
      "        nan        nan        nan        nan        nan        nan\n",
      "        nan        nan        nan 0.99121664 0.9921913  0.9921913\n",
      " 0.9921913  0.9921913  0.99121378 0.9921913  0.99121378 0.9921913\n",
      " 0.99121378 0.99121664 0.99121664 0.99121378 0.9921913  0.9921913\n",
      " 0.99121378 0.99121378 0.9921913  0.9892616  0.9892616  0.9892616\n",
      " 0.9892616  0.9892616  0.9892616  0.99023912 0.99121378 0.99023912\n",
      " 0.99121664 0.9921913  0.9921913  0.9921913  0.9921913  0.99121378\n",
      " 0.9921913  0.99121378 0.9921913  0.99121378 0.99121664 0.99121664\n",
      " 0.99121378 0.9921913  0.9921913  0.99121378 0.99121378 0.9921913\n",
      " 0.9892616  0.9892616  0.9892616  0.9892616  0.9892616  0.9892616\n",
      " 0.99023912 0.99121378 0.99023912        nan        nan        nan\n",
      "        nan        nan        nan        nan        nan        nan\n",
      "        nan        nan        nan        nan        nan        nan\n",
      "        nan        nan        nan        nan        nan        nan\n",
      "        nan        nan        nan        nan        nan        nan\n",
      " 0.99121664 0.9921913  0.9921913  0.9921913  0.9921913  0.99121378\n",
      " 0.9921913  0.99121378 0.9921913  0.99121378 0.99121664 0.99121664\n",
      " 0.99121378 0.9921913  0.9921913  0.99121378 0.99121378 0.9921913\n",
      " 0.9892616  0.9892616  0.9892616  0.9892616  0.9892616  0.9892616\n",
      " 0.99023912 0.99121378 0.99023912 0.99121664 0.9921913  0.9921913\n",
      " 0.9921913  0.9921913  0.99121378 0.9921913  0.99121378 0.9921913\n",
      " 0.99121378 0.99121664 0.99121664 0.99121378 0.9921913  0.9921913\n",
      " 0.99121378 0.99121378 0.9921913  0.9892616  0.9892616  0.9892616\n",
      " 0.9892616  0.9892616  0.9892616  0.99023912 0.99121378 0.99023912]\n",
      "  warnings.warn(\n"
     ]
    },
    {
     "name": "stdout",
     "output_type": "stream",
     "text": [
      "{'bootstrap': False, 'max_depth': 10, 'max_features': 'sqrt', 'min_samples_leaf': 1, 'min_samples_split': 2, 'n_estimators': 200}\n",
      "RandomForestClassifier(bootstrap=False, max_depth=10, n_estimators=200,\n",
      "                       random_state=42)\n",
      "0.9921912960962197\n"
     ]
    }
   ],
   "source": [
    "# Hyperparameter tuning using grid search\n",
    "\n",
    "# Create the parameter grid\n",
    "param_gridRFC2 = {\n",
    "    'n_estimators': [100, 200, 300],\n",
    "    'max_features': ['auto', 'sqrt', 'log2'],\n",
    "    'max_depth': [10, 20, 30, 40, 50, None],\n",
    "    'min_samples_split': [2, 5, 10],\n",
    "    'min_samples_leaf': [1, 2, 4],\n",
    "    'bootstrap': [True, False]\n",
    "}\n",
    "\n",
    "# Create a base model\n",
    "rfc2 = RandomForestClassifier(random_state=42)\n",
    "\n",
    "# Instantiate the grid search model\n",
    "grid_searchRFC2 = GridSearchCV(estimator=rfc2, param_grid=param_gridRFC2, cv=3, n_jobs=-1, verbose=2)\n",
    "\n",
    "# Fit the grid search to the data\n",
    "grid_searchRFC2.fit(X_train2, y_train2)\n",
    "\n",
    "# Print the best parameters\n",
    "print(grid_searchRFC2.best_params_)\n",
    "print(grid_searchRFC2.best_estimator_)\n",
    "print(grid_searchRFC2.best_score_)\n",
    "\n",
    "\n",
    "# The results:\n",
    "# Best Params: {'bootstrap': False, 'max_depth': 10, 'max_features': 'sqrt', 'min_samples_leaf': 1, 'min_samples_split': 2, 'n_estimators': 200}\n",
    "# Classifier: RandomForestClassifier(bootstrap=False, max_depth=10, n_estimators=200, random_state=42)\n",
    "# Score: 0.9921912960962197"
   ]
  },
  {
   "cell_type": "markdown",
   "metadata": {},
   "source": [
    "## 2.3) Evaluation of the Random Forest model"
   ]
  },
  {
   "cell_type": "code",
   "execution_count": 54,
   "metadata": {},
   "outputs": [
    {
     "name": "stdout",
     "output_type": "stream",
     "text": [
      "Best Classifier Accuracy: 0.99609375\n",
      "Best Classifier Precision: 0.989247311827957\n",
      "Best Classifier Recall: 1.0\n",
      "Best Classifier F1 Score: 0.9945945945945946\n"
     ]
    },
    {
     "data": {
      "image/png": "[encoded data removed]",
      "text/plain": [
       "<Figure size 640x480 with 2 Axes>"
      ]
     },
     "metadata": {},
     "output_type": "display_data"
    }
   ],
   "source": [
    "bestRFCModel2 = grid_searchRFC2.best_estimator_\n",
    "evaluate(bestRFCModel2, y_test2, X_test2)"
   ]
  },
  {
   "cell_type": "markdown",
   "metadata": {},
   "source": [
    "## 3.1) AdaBoost model implementation"
   ]
  },
  {
   "cell_type": "code",
   "execution_count": 55,
   "metadata": {},
   "outputs": [
    {
     "name": "stdout",
     "output_type": "stream",
     "text": [
      "AdaBoost Classifier Accuracy: 1.0\n"
     ]
    }
   ],
   "source": [
    "# Creating a AdaBoost classifier\n",
    "abcModel2 = AdaBoostClassifier(n_estimators=100, random_state=42)\n",
    "\n",
    "abcModel2.fit(X_train2, y_train2)\n",
    "\n",
    "abcPredictions2 = abcModel2.predict(X_test2)\n",
    "\n",
    "# Calculate the accuracy of the model\n",
    "abcAccuracy2 = accuracy_score(y_test2, abcPredictions2)\n",
    "print('AdaBoost Classifier Accuracy:', abcAccuracy2)\n",
    "\n",
    "# doesn't even need hyper parameter tuning :D"
   ]
  },
  {
   "cell_type": "markdown",
   "metadata": {},
   "source": [
    "## 3.2) Hyperparameter tuning for the AdaBoost model"
   ]
  },
  {
   "cell_type": "code",
   "execution_count": 56,
   "metadata": {},
   "outputs": [
    {
     "name": "stdout",
     "output_type": "stream",
     "text": [
      "Fitting 3 folds for each of 15 candidates, totalling 45 fits\n",
      "{'learning_rate': 1, 'n_estimators': 200}\n",
      "AdaBoostClassifier(learning_rate=1, n_estimators=200, random_state=42)\n",
      "0.9970703069175055\n"
     ]
    }
   ],
   "source": [
    "# Hyperparameter tuning using grid search\n",
    "\n",
    "# Create the parameter grid\n",
    "param_gridABC2 = {\n",
    "    'n_estimators': [50, 100, 200],\n",
    "    'learning_rate': [0.01, 0.05, 0.1, 0.3, 1]\n",
    "}\n",
    "\n",
    "# Create a base model\n",
    "abcModel2 = AdaBoostClassifier(random_state=42)\n",
    "\n",
    "# Instantiate the grid search model\n",
    "grid_searchABC2 = GridSearchCV(estimator=abcModel2, param_grid=param_gridABC2, cv=3, n_jobs=-1, verbose=2)\n",
    "\n",
    "# Fit the grid search to the data\n",
    "grid_searchABC2.fit(X_train2, y_train2)\n",
    "\n",
    "# Print the best parameters\n",
    "print(grid_searchABC2.best_params_)\n",
    "print(grid_searchABC2.best_estimator_)\n",
    "print(grid_searchABC2.best_score_)\n",
    "\n",
    "\n",
    "# The results:\n",
    "\n",
    "# {'learning_rate': 0.1, 'n_estimators': 200}\n",
    "# AdaBoostClassifier(learning_rate=0.1, n_estimators=200, random_state=42)\n",
    "# 0.9970703069175055"
   ]
  },
  {
   "cell_type": "markdown",
   "metadata": {},
   "source": [
    "## 3.3) Evaluation of the AdaBoost model"
   ]
  },
  {
   "cell_type": "code",
   "execution_count": 57,
   "metadata": {},
   "outputs": [
    {
     "name": "stdout",
     "output_type": "stream",
     "text": [
      "Best Classifier Accuracy: 1.0\n",
      "Best Classifier Precision: 1.0\n",
      "Best Classifier Recall: 1.0\n",
      "Best Classifier F1 Score: 1.0\n"
     ]
    },
    {
     "data": {
      "image/png": "[encoded data removed]",
      "text/plain": [
       "<Figure size 640x480 with 2 Axes>"
      ]
     },
     "metadata": {},
     "output_type": "display_data"
    }
   ],
   "source": [
    "evaluate(grid_searchABC2.best_estimator_, y_test2, X_test2)"
   ]
  },
  {
   "cell_type": "markdown",
   "metadata": {},
   "source": [
    "## 4.1) Gradient Boost model implementation"
   ]
  },
  {
   "cell_type": "code",
   "execution_count": 58,
   "metadata": {},
   "outputs": [
    {
     "name": "stdout",
     "output_type": "stream",
     "text": [
      "Gradient Boost Classifier Accuracy: 1.0\n"
     ]
    }
   ],
   "source": [
    "# Creating a Gradient Boost classifier\n",
    "gbcModel2 = GradientBoostingClassifier(n_estimators=100, random_state=42)\n",
    "\n",
    "gbcModel2.fit(X_train2, y_train2)\n",
    "\n",
    "gbcPredictions2 = gbcModel2.predict(X_test2)\n",
    "\n",
    "# Calculate the accuracy of the model\n",
    "gbcAccuracy2 = accuracy_score(y_test2, gbcPredictions2)\n",
    "print('Gradient Boost Classifier Accuracy:', abcAccuracy2)"
   ]
  },
  {
   "cell_type": "markdown",
   "metadata": {},
   "source": [
    "## 4.2) Hyperparameter tuning for the Gradient Boost model"
   ]
  },
  {
   "cell_type": "code",
   "execution_count": 59,
   "metadata": {},
   "outputs": [
    {
     "name": "stdout",
     "output_type": "stream",
     "text": [
      "Fitting 3 folds for each of 1620 candidates, totalling 4860 fits\n"
     ]
    },
    {
     "name": "stderr",
     "output_type": "stream",
     "text": [
      "c:\\Users\\most2\\anaconda3\\Lib\\site-packages\\sklearn\\model_selection\\_validation.py:425: FitFailedWarning: \n",
      "1620 fits failed out of a total of 4860.\n",
      "The score on these train-test partitions for these parameters will be set to nan.\n",
      "If these failures are not expected, you can try to debug them by setting error_score='raise'.\n",
      "\n",
      "Below are more details about the failures:\n",
      "--------------------------------------------------------------------------------\n",
      "605 fits failed with the following error:\n",
      "Traceback (most recent call last):\n",
      "  File \"c:\\Users\\most2\\anaconda3\\Lib\\site-packages\\sklearn\\model_selection\\_validation.py\", line 732, in _fit_and_score\n",
      "    estimator.fit(X_train, y_train, **fit_params)\n",
      "  File \"c:\\Users\\most2\\anaconda3\\Lib\\site-packages\\sklearn\\base.py\", line 1144, in wrapper\n",
      "    estimator._validate_params()\n",
      "  File \"c:\\Users\\most2\\anaconda3\\Lib\\site-packages\\sklearn\\base.py\", line 637, in _validate_params\n",
      "    validate_parameter_constraints(\n",
      "  File \"c:\\Users\\most2\\anaconda3\\Lib\\site-packages\\sklearn\\utils\\_param_validation.py\", line 95, in validate_parameter_constraints\n",
      "    raise InvalidParameterError(\n",
      "sklearn.utils._param_validation.InvalidParameterError: The 'max_features' parameter of GradientBoostingClassifier must be an int in the range [1, inf), a float in the range (0.0, 1.0], a str among {'sqrt', 'log2'} or None. Got 'auto' instead.\n",
      "\n",
      "--------------------------------------------------------------------------------\n",
      "1015 fits failed with the following error:\n",
      "Traceback (most recent call last):\n",
      "  File \"c:\\Users\\most2\\anaconda3\\Lib\\site-packages\\sklearn\\model_selection\\_validation.py\", line 732, in _fit_and_score\n",
      "    estimator.fit(X_train, y_train, **fit_params)\n",
      "  File \"c:\\Users\\most2\\anaconda3\\Lib\\site-packages\\sklearn\\base.py\", line 1144, in wrapper\n",
      "    estimator._validate_params()\n",
      "  File \"c:\\Users\\most2\\anaconda3\\Lib\\site-packages\\sklearn\\base.py\", line 637, in _validate_params\n",
      "    validate_parameter_constraints(\n",
      "  File \"c:\\Users\\most2\\anaconda3\\Lib\\site-packages\\sklearn\\utils\\_param_validation.py\", line 95, in validate_parameter_constraints\n",
      "    raise InvalidParameterError(\n",
      "sklearn.utils._param_validation.InvalidParameterError: The 'max_features' parameter of GradientBoostingClassifier must be an int in the range [1, inf), a float in the range (0.0, 1.0], a str among {'log2', 'sqrt'} or None. Got 'auto' instead.\n",
      "\n",
      "  warnings.warn(some_fits_failed_message, FitFailedWarning)\n",
      "c:\\Users\\most2\\anaconda3\\Lib\\site-packages\\sklearn\\model_selection\\_search.py:976: UserWarning: One or more of the test scores are non-finite: [       nan        nan        nan ... 0.99414061 0.99316881 0.9931631 ]\n",
      "  warnings.warn(\n"
     ]
    },
    {
     "name": "stdout",
     "output_type": "stream",
     "text": [
      "{'learning_rate': 1, 'max_depth': 3, 'max_features': 'sqrt', 'min_samples_leaf': 2, 'min_samples_split': 5, 'n_estimators': 100, 'subsample': 0.8}\n",
      "GradientBoostingClassifier(learning_rate=1, max_features='sqrt',\n",
      "                           min_samples_leaf=2, min_samples_split=5,\n",
      "                           random_state=42, subsample=0.8)\n",
      "0.9980478240240549\n"
     ]
    }
   ],
   "source": [
    "# Hyperparameter tuning using grid search\n",
    "\n",
    "# Create the parameter grid\n",
    "param_gridGBC2 = {\n",
    "    'n_estimators': [50, 100],\n",
    "    'learning_rate': [0.01, 0.05, 0.1, 0.3, 1],\n",
    "    'max_depth': [3, 4],\n",
    "    'min_samples_split': [2, 5, 10],\n",
    "    'min_samples_leaf': [1, 2, 4],\n",
    "    'subsample': [0.8, 0.9, 1.0],\n",
    "    'max_features': ['auto', 'sqrt', 'log2']\n",
    "}\n",
    "\n",
    "# Create a base model\n",
    "gbcModel2 = GradientBoostingClassifier(random_state=42)\n",
    "\n",
    "# Instantiate the grid search model\n",
    "grid_searchGBC2 = GridSearchCV(estimator=gbcModel2, param_grid=param_gridGBC2, cv=3, n_jobs=-1, verbose=2)\n",
    "\n",
    "# Fit the grid search to the data\n",
    "grid_searchGBC2.fit(X_train2, y_train2)\n",
    "\n",
    "# Print the best parameters\n",
    "print(grid_searchGBC2.best_params_)\n",
    "print(grid_searchGBC2.best_estimator_)\n",
    "print(grid_searchGBC2.best_score_)\n",
    "\n",
    "\n",
    "# The results:\n",
    "\n",
    "# {'learning_rate': 1, 'max_depth': 3, 'max_features': 'sqrt', 'min_samples_leaf': 2, 'min_samples_split': 5, 'n_estimators': 100, 'subsample': 0.8}\n",
    "# GradientBoostingClassifier(learning_rate=1, max_features='sqrt',\n",
    "#                            min_samples_leaf=2, min_samples_split=5,\n",
    "#                            random_state=42, subsample=0.8)\n",
    "# 0.9980478240240549"
   ]
  },
  {
   "cell_type": "markdown",
   "metadata": {},
   "source": [
    "## 4.3) Evaluation of the Gradient Boost model"
   ]
  },
  {
   "cell_type": "code",
   "execution_count": 60,
   "metadata": {},
   "outputs": [
    {
     "name": "stdout",
     "output_type": "stream",
     "text": [
      "Best Classifier Accuracy: 1.0\n",
      "Best Classifier Precision: 1.0\n",
      "Best Classifier Recall: 1.0\n",
      "Best Classifier F1 Score: 1.0\n"
     ]
    },
    {
     "data": {
      "image/png": "[encoded data removed]",
      "text/plain": [
       "<Figure size 640x480 with 2 Axes>"
      ]
     },
     "metadata": {},
     "output_type": "display_data"
    }
   ],
   "source": [
    "evaluate(grid_searchGBC2.best_estimator_, y_test2, X_test2)"
   ]
  },
  {
   "cell_type": "markdown",
   "metadata": {},
   "source": [
    "------------------------------\n",
    "# Third Database Data Engineering Process\n",
    "\n",
    "Database name: \"predict taxi fare.csv\""
   ]
  },
  {
   "cell_type": "code",
   "execution_count": 61,
   "metadata": {},
   "outputs": [],
   "source": [
    "# Same exact code process as for the first database\n",
    "df3 = pd.read_csv('predict taxi fare.csv')"
   ]
  },
  {
   "cell_type": "code",
   "execution_count": 62,
   "metadata": {},
   "outputs": [
    {
     "data": {
      "text/html": [
       "<div>\n",
       "<style scoped>\n",
       "    .dataframe tbody tr th:only-of-type {\n",
       "        vertical-align: middle;\n",
       "    }\n",
       "\n",
       "    .dataframe tbody tr th {\n",
       "        vertical-align: top;\n",
       "    }\n",
       "\n",
       "    .dataframe thead th {\n",
       "        text-align: right;\n",
       "    }\n",
       "</style>\n",
       "<table border=\"1\" class=\"dataframe\">\n",
       "  <thead>\n",
       "    <tr style=\"text-align: right;\">\n",
       "      <th></th>\n",
       "      <th>medallion</th>\n",
       "      <th>pickup_datetime</th>\n",
       "      <th>pickup_longitude</th>\n",
       "      <th>pickup_latitude</th>\n",
       "      <th>trip_time_in_secs</th>\n",
       "      <th>fare_amount</th>\n",
       "      <th>tip_amount</th>\n",
       "    </tr>\n",
       "  </thead>\n",
       "  <tbody>\n",
       "    <tr>\n",
       "      <th>0</th>\n",
       "      <td>4D24F4D8EF35878595044A52B098DFD2</td>\n",
       "      <td>2013-01-13T10:23:00Z</td>\n",
       "      <td>-73.946457</td>\n",
       "      <td>40.772728</td>\n",
       "      <td>600</td>\n",
       "      <td>8.0</td>\n",
       "      <td>2.5</td>\n",
       "    </tr>\n",
       "    <tr>\n",
       "      <th>1</th>\n",
       "      <td>A49C37EB966E7B05E69523D1CB7BE303</td>\n",
       "      <td>2013-01-13T04:52:00Z</td>\n",
       "      <td>-73.998268</td>\n",
       "      <td>40.740414</td>\n",
       "      <td>840</td>\n",
       "      <td>18.0</td>\n",
       "      <td>0.0</td>\n",
       "    </tr>\n",
       "    <tr>\n",
       "      <th>2</th>\n",
       "      <td>1E4B72A8E623888F53A9693C364AC05A</td>\n",
       "      <td>2013-01-13T10:47:00Z</td>\n",
       "      <td>-73.953461</td>\n",
       "      <td>40.775864</td>\n",
       "      <td>60</td>\n",
       "      <td>3.5</td>\n",
       "      <td>0.7</td>\n",
       "    </tr>\n",
       "    <tr>\n",
       "      <th>3</th>\n",
       "      <td>F7E4E9439C46B8AD5B16AB9F1B3279D7</td>\n",
       "      <td>2013-01-13T11:14:00Z</td>\n",
       "      <td>-73.981369</td>\n",
       "      <td>40.724731</td>\n",
       "      <td>720</td>\n",
       "      <td>11.5</td>\n",
       "      <td>2.3</td>\n",
       "    </tr>\n",
       "    <tr>\n",
       "      <th>4</th>\n",
       "      <td>A9DC75D59E0EA27E1ED328E8BE8CD828</td>\n",
       "      <td>2013-01-13T11:24:00Z</td>\n",
       "      <td>-73.967995</td>\n",
       "      <td>40.760002</td>\n",
       "      <td>240</td>\n",
       "      <td>6.5</td>\n",
       "      <td>0.0</td>\n",
       "    </tr>\n",
       "  </tbody>\n",
       "</table>\n",
       "</div>"
      ],
      "text/plain": [
       "                          medallion       pickup_datetime  pickup_longitude  \\\n",
       "0  4D24F4D8EF35878595044A52B098DFD2  2013-01-13T10:23:00Z        -73.946457   \n",
       "1  A49C37EB966E7B05E69523D1CB7BE303  2013-01-13T04:52:00Z        -73.998268   \n",
       "2  1E4B72A8E623888F53A9693C364AC05A  2013-01-13T10:47:00Z        -73.953461   \n",
       "3  F7E4E9439C46B8AD5B16AB9F1B3279D7  2013-01-13T11:14:00Z        -73.981369   \n",
       "4  A9DC75D59E0EA27E1ED328E8BE8CD828  2013-01-13T11:24:00Z        -73.967995   \n",
       "\n",
       "   pickup_latitude  trip_time_in_secs  fare_amount  tip_amount  \n",
       "0        40.772728                600          8.0         2.5  \n",
       "1        40.740414                840         18.0         0.0  \n",
       "2        40.775864                 60          3.5         0.7  \n",
       "3        40.724731                720         11.5         2.3  \n",
       "4        40.760002                240          6.5         0.0  "
      ]
     },
     "execution_count": 62,
     "metadata": {},
     "output_type": "execute_result"
    }
   ],
   "source": [
    "df3.head()"
   ]
  },
  {
   "cell_type": "markdown",
   "metadata": {},
   "source": [
    "## 1.0) Data Preprocessing"
   ]
  },
  {
   "cell_type": "markdown",
   "metadata": {},
   "source": [
    "##### Droping useless columns"
   ]
  },
  {
   "cell_type": "code",
   "execution_count": 63,
   "metadata": {},
   "outputs": [
    {
     "data": {
      "text/html": [
       "<div>\n",
       "<style scoped>\n",
       "    .dataframe tbody tr th:only-of-type {\n",
       "        vertical-align: middle;\n",
       "    }\n",
       "\n",
       "    .dataframe tbody tr th {\n",
       "        vertical-align: top;\n",
       "    }\n",
       "\n",
       "    .dataframe thead th {\n",
       "        text-align: right;\n",
       "    }\n",
       "</style>\n",
       "<table border=\"1\" class=\"dataframe\">\n",
       "  <thead>\n",
       "    <tr style=\"text-align: right;\">\n",
       "      <th></th>\n",
       "      <th>pickup_datetime</th>\n",
       "      <th>pickup_longitude</th>\n",
       "      <th>pickup_latitude</th>\n",
       "      <th>trip_time_in_secs</th>\n",
       "      <th>fare_amount</th>\n",
       "      <th>tip_amount</th>\n",
       "    </tr>\n",
       "  </thead>\n",
       "  <tbody>\n",
       "    <tr>\n",
       "      <th>0</th>\n",
       "      <td>2013-01-13T10:23:00Z</td>\n",
       "      <td>-73.946457</td>\n",
       "      <td>40.772728</td>\n",
       "      <td>600</td>\n",
       "      <td>8.0</td>\n",
       "      <td>2.5</td>\n",
       "    </tr>\n",
       "    <tr>\n",
       "      <th>1</th>\n",
       "      <td>2013-01-13T04:52:00Z</td>\n",
       "      <td>-73.998268</td>\n",
       "      <td>40.740414</td>\n",
       "      <td>840</td>\n",
       "      <td>18.0</td>\n",
       "      <td>0.0</td>\n",
       "    </tr>\n",
       "    <tr>\n",
       "      <th>2</th>\n",
       "      <td>2013-01-13T10:47:00Z</td>\n",
       "      <td>-73.953461</td>\n",
       "      <td>40.775864</td>\n",
       "      <td>60</td>\n",
       "      <td>3.5</td>\n",
       "      <td>0.7</td>\n",
       "    </tr>\n",
       "    <tr>\n",
       "      <th>3</th>\n",
       "      <td>2013-01-13T11:14:00Z</td>\n",
       "      <td>-73.981369</td>\n",
       "      <td>40.724731</td>\n",
       "      <td>720</td>\n",
       "      <td>11.5</td>\n",
       "      <td>2.3</td>\n",
       "    </tr>\n",
       "    <tr>\n",
       "      <th>4</th>\n",
       "      <td>2013-01-13T11:24:00Z</td>\n",
       "      <td>-73.967995</td>\n",
       "      <td>40.760002</td>\n",
       "      <td>240</td>\n",
       "      <td>6.5</td>\n",
       "      <td>0.0</td>\n",
       "    </tr>\n",
       "  </tbody>\n",
       "</table>\n",
       "</div>"
      ],
      "text/plain": [
       "        pickup_datetime  pickup_longitude  pickup_latitude  trip_time_in_secs  \\\n",
       "0  2013-01-13T10:23:00Z        -73.946457        40.772728                600   \n",
       "1  2013-01-13T04:52:00Z        -73.998268        40.740414                840   \n",
       "2  2013-01-13T10:47:00Z        -73.953461        40.775864                 60   \n",
       "3  2013-01-13T11:14:00Z        -73.981369        40.724731                720   \n",
       "4  2013-01-13T11:24:00Z        -73.967995        40.760002                240   \n",
       "\n",
       "   fare_amount  tip_amount  \n",
       "0          8.0         2.5  \n",
       "1         18.0         0.0  \n",
       "2          3.5         0.7  \n",
       "3         11.5         2.3  \n",
       "4          6.5         0.0  "
      ]
     },
     "execution_count": 63,
     "metadata": {},
     "output_type": "execute_result"
    }
   ],
   "source": [
    "df3.drop(columns=['medallion'], inplace=True)\n",
    "\n",
    "df3.head()"
   ]
  },
  {
   "cell_type": "markdown",
   "metadata": {},
   "source": [
    "##### Taking a sample"
   ]
  },
  {
   "cell_type": "code",
   "execution_count": 64,
   "metadata": {},
   "outputs": [
    {
     "data": {
      "text/plain": [
       "(8000, 6)"
      ]
     },
     "execution_count": 64,
     "metadata": {},
     "output_type": "execute_result"
    }
   ],
   "source": [
    "# Taking a Random Sample of 8000 rows\n",
    "df3 = df3.sample(n=8000, random_state=42)\n",
    "df3.shape"
   ]
  },
  {
   "cell_type": "markdown",
   "metadata": {},
   "source": [
    "##### Feature Extracting, day_in_week & time_in_day"
   ]
  },
  {
   "cell_type": "code",
   "execution_count": 65,
   "metadata": {},
   "outputs": [
    {
     "data": {
      "text/html": [
       "<div>\n",
       "<style scoped>\n",
       "    .dataframe tbody tr th:only-of-type {\n",
       "        vertical-align: middle;\n",
       "    }\n",
       "\n",
       "    .dataframe tbody tr th {\n",
       "        vertical-align: top;\n",
       "    }\n",
       "\n",
       "    .dataframe thead th {\n",
       "        text-align: right;\n",
       "    }\n",
       "</style>\n",
       "<table border=\"1\" class=\"dataframe\">\n",
       "  <thead>\n",
       "    <tr style=\"text-align: right;\">\n",
       "      <th></th>\n",
       "      <th>pickup_longitude</th>\n",
       "      <th>pickup_latitude</th>\n",
       "      <th>trip_time_in_secs</th>\n",
       "      <th>fare_amount</th>\n",
       "      <th>tip_amount</th>\n",
       "      <th>weekday</th>\n",
       "      <th>daytime</th>\n",
       "    </tr>\n",
       "  </thead>\n",
       "  <tbody>\n",
       "    <tr>\n",
       "      <th>33552</th>\n",
       "      <td>-74.002129</td>\n",
       "      <td>40.741291</td>\n",
       "      <td>720</td>\n",
       "      <td>11.0</td>\n",
       "      <td>2.2</td>\n",
       "      <td>4</td>\n",
       "      <td>7.083333</td>\n",
       "    </tr>\n",
       "    <tr>\n",
       "      <th>9427</th>\n",
       "      <td>-73.980492</td>\n",
       "      <td>40.730576</td>\n",
       "      <td>519</td>\n",
       "      <td>7.5</td>\n",
       "      <td>1.0</td>\n",
       "      <td>2</td>\n",
       "      <td>19.700000</td>\n",
       "    </tr>\n",
       "    <tr>\n",
       "      <th>199</th>\n",
       "      <td>-73.973190</td>\n",
       "      <td>40.752766</td>\n",
       "      <td>660</td>\n",
       "      <td>8.0</td>\n",
       "      <td>0.0</td>\n",
       "      <td>2</td>\n",
       "      <td>15.700000</td>\n",
       "    </tr>\n",
       "    <tr>\n",
       "      <th>12447</th>\n",
       "      <td>-73.973869</td>\n",
       "      <td>40.783012</td>\n",
       "      <td>1020</td>\n",
       "      <td>13.5</td>\n",
       "      <td>0.0</td>\n",
       "      <td>5</td>\n",
       "      <td>18.100000</td>\n",
       "    </tr>\n",
       "    <tr>\n",
       "      <th>39488</th>\n",
       "      <td>-73.995956</td>\n",
       "      <td>40.726589</td>\n",
       "      <td>585</td>\n",
       "      <td>8.5</td>\n",
       "      <td>0.0</td>\n",
       "      <td>5</td>\n",
       "      <td>12.433333</td>\n",
       "    </tr>\n",
       "  </tbody>\n",
       "</table>\n",
       "</div>"
      ],
      "text/plain": [
       "       pickup_longitude  pickup_latitude  trip_time_in_secs  fare_amount  \\\n",
       "33552        -74.002129        40.741291                720         11.0   \n",
       "9427         -73.980492        40.730576                519          7.5   \n",
       "199          -73.973190        40.752766                660          8.0   \n",
       "12447        -73.973869        40.783012               1020         13.5   \n",
       "39488        -73.995956        40.726589                585          8.5   \n",
       "\n",
       "       tip_amount  weekday    daytime  \n",
       "33552         2.2        4   7.083333  \n",
       "9427          1.0        2  19.700000  \n",
       "199           0.0        2  15.700000  \n",
       "12447         0.0        5  18.100000  \n",
       "39488         0.0        5  12.433333  "
      ]
     },
     "execution_count": 65,
     "metadata": {},
     "output_type": "execute_result"
    }
   ],
   "source": [
    "# Extracting the day from the pickup_datetime column\n",
    "df3['weekday'] = pd.to_datetime(df3['pickup_datetime']).dt.dayofweek\n",
    "\n",
    "# Extracting the hour, minute from the pickup_datetime column\n",
    "df3['daytime'] = pd.to_datetime(df3['pickup_datetime']).dt.hour + pd.to_datetime(df3['pickup_datetime']).dt.minute / 60\n",
    "\n",
    "# Dropping the pickup_datetime column\n",
    "df3.drop(columns=['pickup_datetime'], inplace=True)\n",
    "\n",
    "df3.head()"
   ]
  },
  {
   "cell_type": "markdown",
   "metadata": {},
   "source": [
    "##### Checking null values for each column."
   ]
  },
  {
   "cell_type": "code",
   "execution_count": 66,
   "metadata": {},
   "outputs": [
    {
     "name": "stdout",
     "output_type": "stream",
     "text": [
      "pickup_longitude     0\n",
      "pickup_latitude      0\n",
      "trip_time_in_secs    0\n",
      "fare_amount          0\n",
      "tip_amount           0\n",
      "weekday              0\n",
      "daytime              0\n",
      "dtype: int64\n"
     ]
    }
   ],
   "source": [
    "# Get the number of null values for each column\n",
    "null_values = df3.isnull().sum()\n",
    "print(null_values)\n",
    "\n",
    "# We have no null values!"
   ]
  },
  {
   "cell_type": "markdown",
   "metadata": {},
   "source": [
    "Checking for non numeric data"
   ]
  },
  {
   "cell_type": "code",
   "execution_count": 67,
   "metadata": {},
   "outputs": [
    {
     "name": "stdout",
     "output_type": "stream",
     "text": [
      "Index([], dtype='object')\n"
     ]
    }
   ],
   "source": [
    "non_numeric_columns = df3.select_dtypes(exclude=[np.number]).columns\n",
    "print(non_numeric_columns)\n",
    "\n",
    "# We have no non-numeric columns!"
   ]
  },
  {
   "cell_type": "code",
   "execution_count": 68,
   "metadata": {},
   "outputs": [
    {
     "data": {
      "text/html": [
       "<div>\n",
       "<style scoped>\n",
       "    .dataframe tbody tr th:only-of-type {\n",
       "        vertical-align: middle;\n",
       "    }\n",
       "\n",
       "    .dataframe tbody tr th {\n",
       "        vertical-align: top;\n",
       "    }\n",
       "\n",
       "    .dataframe thead th {\n",
       "        text-align: right;\n",
       "    }\n",
       "</style>\n",
       "<table border=\"1\" class=\"dataframe\">\n",
       "  <thead>\n",
       "    <tr style=\"text-align: right;\">\n",
       "      <th></th>\n",
       "      <th>pickup_longitude</th>\n",
       "      <th>pickup_latitude</th>\n",
       "      <th>trip_time_in_secs</th>\n",
       "      <th>fare_amount</th>\n",
       "      <th>tip_amount</th>\n",
       "      <th>weekday</th>\n",
       "      <th>daytime</th>\n",
       "    </tr>\n",
       "  </thead>\n",
       "  <tbody>\n",
       "    <tr>\n",
       "      <th>33552</th>\n",
       "      <td>-74.002129</td>\n",
       "      <td>40.741291</td>\n",
       "      <td>720</td>\n",
       "      <td>11.0</td>\n",
       "      <td>2.2</td>\n",
       "      <td>4</td>\n",
       "      <td>7.083333</td>\n",
       "    </tr>\n",
       "    <tr>\n",
       "      <th>9427</th>\n",
       "      <td>-73.980492</td>\n",
       "      <td>40.730576</td>\n",
       "      <td>519</td>\n",
       "      <td>7.5</td>\n",
       "      <td>1.0</td>\n",
       "      <td>2</td>\n",
       "      <td>19.700000</td>\n",
       "    </tr>\n",
       "    <tr>\n",
       "      <th>199</th>\n",
       "      <td>-73.973190</td>\n",
       "      <td>40.752766</td>\n",
       "      <td>660</td>\n",
       "      <td>8.0</td>\n",
       "      <td>0.0</td>\n",
       "      <td>2</td>\n",
       "      <td>15.700000</td>\n",
       "    </tr>\n",
       "    <tr>\n",
       "      <th>12447</th>\n",
       "      <td>-73.973869</td>\n",
       "      <td>40.783012</td>\n",
       "      <td>1020</td>\n",
       "      <td>13.5</td>\n",
       "      <td>0.0</td>\n",
       "      <td>5</td>\n",
       "      <td>18.100000</td>\n",
       "    </tr>\n",
       "    <tr>\n",
       "      <th>39488</th>\n",
       "      <td>-73.995956</td>\n",
       "      <td>40.726589</td>\n",
       "      <td>585</td>\n",
       "      <td>8.5</td>\n",
       "      <td>0.0</td>\n",
       "      <td>5</td>\n",
       "      <td>12.433333</td>\n",
       "    </tr>\n",
       "  </tbody>\n",
       "</table>\n",
       "</div>"
      ],
      "text/plain": [
       "       pickup_longitude  pickup_latitude  trip_time_in_secs  fare_amount  \\\n",
       "33552        -74.002129        40.741291                720         11.0   \n",
       "9427         -73.980492        40.730576                519          7.5   \n",
       "199          -73.973190        40.752766                660          8.0   \n",
       "12447        -73.973869        40.783012               1020         13.5   \n",
       "39488        -73.995956        40.726589                585          8.5   \n",
       "\n",
       "       tip_amount  weekday    daytime  \n",
       "33552         2.2        4   7.083333  \n",
       "9427          1.0        2  19.700000  \n",
       "199           0.0        2  15.700000  \n",
       "12447         0.0        5  18.100000  \n",
       "39488         0.0        5  12.433333  "
      ]
     },
     "execution_count": 68,
     "metadata": {},
     "output_type": "execute_result"
    }
   ],
   "source": [
    "df3.head()"
   ]
  },
  {
   "cell_type": "markdown",
   "metadata": {},
   "source": [
    "## 2.1) Random Forest model implementation"
   ]
  },
  {
   "cell_type": "code",
   "execution_count": 69,
   "metadata": {},
   "outputs": [],
   "source": [
    "# Split the data into features and target label\n",
    "X3 = df3.drop('fare_amount', axis=1)\n",
    "y3 = df3['fare_amount']\n",
    "\n",
    "X_train3, X_test3, y_train3, y_test3 = train_test_split(X3, y3, test_size=0.2, random_state=42)"
   ]
  },
  {
   "cell_type": "code",
   "execution_count": 70,
   "metadata": {},
   "outputs": [
    {
     "name": "stdout",
     "output_type": "stream",
     "text": [
      "Out-of-Bag Score: 0.7857191266084633\n",
      "Mean Squared Error: 14.327860562072756\n",
      "R-squared: 0.8352348979054396\n",
      "Mean Absolute Error: 1.6484857421875\n"
     ]
    }
   ],
   "source": [
    "# Creating a random forest classifier\n",
    "rfrModel3 = RandomForestRegressor(n_estimators=64, random_state=42, oob_score=True)\n",
    "\n",
    "rfrModel3.fit(X_train3, y_train3)\n",
    "\n",
    "rfrPredictions3 = rfrModel3.predict(X_test3)\n",
    "\n",
    "# Calculate the accuracy of the model\n",
    "oob_score3 = rfrModel3.oob_score_\n",
    "print(f'Out-of-Bag Score: {oob_score3}')\n",
    " \n",
    "evaluateRegrission(y_test3, rfrPredictions3)"
   ]
  },
  {
   "cell_type": "markdown",
   "metadata": {},
   "source": [
    "## 2.2) Hyperparameter tuning for the Random Forest model"
   ]
  },
  {
   "cell_type": "code",
   "execution_count": 71,
   "metadata": {},
   "outputs": [
    {
     "name": "stdout",
     "output_type": "stream",
     "text": [
      "Fitting 3 folds for each of 192 candidates, totalling 576 fits\n"
     ]
    },
    {
     "name": "stderr",
     "output_type": "stream",
     "text": [
      "c:\\Users\\most2\\anaconda3\\Lib\\site-packages\\sklearn\\model_selection\\_validation.py:425: FitFailedWarning: \n",
      "288 fits failed out of a total of 576.\n",
      "The score on these train-test partitions for these parameters will be set to nan.\n",
      "If these failures are not expected, you can try to debug them by setting error_score='raise'.\n",
      "\n",
      "Below are more details about the failures:\n",
      "--------------------------------------------------------------------------------\n",
      "288 fits failed with the following error:\n",
      "Traceback (most recent call last):\n",
      "  File \"c:\\Users\\most2\\anaconda3\\Lib\\site-packages\\sklearn\\model_selection\\_validation.py\", line 732, in _fit_and_score\n",
      "    estimator.fit(X_train, y_train, **fit_params)\n",
      "  File \"c:\\Users\\most2\\anaconda3\\Lib\\site-packages\\sklearn\\base.py\", line 1151, in wrapper\n",
      "    return fit_method(estimator, *args, **kwargs)\n",
      "           ^^^^^^^^^^^^^^^^^^^^^^^^^^^^^^^^^^^^^^\n",
      "  File \"c:\\Users\\most2\\anaconda3\\Lib\\site-packages\\sklearn\\ensemble\\_forest.py\", line 417, in fit\n",
      "    raise ValueError(\"Out of bag estimation only available if bootstrap=True\")\n",
      "ValueError: Out of bag estimation only available if bootstrap=True\n",
      "\n",
      "  warnings.warn(some_fits_failed_message, FitFailedWarning)\n",
      "c:\\Users\\most2\\anaconda3\\Lib\\site-packages\\sklearn\\model_selection\\_search.py:976: UserWarning: One or more of the test scores are non-finite: [0.81317808 0.81433067 0.80869658 0.81124386 0.8089324  0.81170364\n",
      " 0.81215852 0.81261245 0.80636738 0.80676954 0.80745774 0.80922106\n",
      " 0.81317808 0.81433067 0.80869658 0.81124386 0.8089324  0.81170364\n",
      " 0.81215852 0.81261245 0.80636738 0.80676954 0.80745774 0.80922106\n",
      " 0.8120038  0.81484357 0.81440125 0.81566609 0.81623759 0.8180372\n",
      " 0.81203097 0.81431162 0.80902955 0.81048496 0.8107358  0.81201775\n",
      " 0.8120038  0.81484357 0.81440125 0.81566609 0.81623759 0.8180372\n",
      " 0.81203097 0.81431162 0.80902955 0.81048496 0.8107358  0.81201775\n",
      " 0.81390544 0.81515992 0.81569469 0.81753857 0.81209084 0.81450213\n",
      " 0.81227307 0.81447395 0.80983255 0.80979029 0.81065867 0.81164666\n",
      " 0.81390544 0.81515992 0.81569469 0.81753857 0.81209084 0.81450213\n",
      " 0.81227307 0.81447395 0.80983255 0.80979029 0.81065867 0.81164666\n",
      " 0.81533075 0.81572689 0.81608441 0.81753086 0.81213847 0.81431166\n",
      " 0.81226638 0.8144396  0.8098327  0.80982142 0.81065867 0.81164666\n",
      " 0.81533075 0.81572689 0.81608441 0.81753086 0.81213847 0.81431166\n",
      " 0.81226638 0.8144396  0.8098327  0.80982142 0.81065867 0.81164666\n",
      "        nan        nan        nan        nan        nan        nan\n",
      "        nan        nan        nan        nan        nan        nan\n",
      "        nan        nan        nan        nan        nan        nan\n",
      "        nan        nan        nan        nan        nan        nan\n",
      "        nan        nan        nan        nan        nan        nan\n",
      "        nan        nan        nan        nan        nan        nan\n",
      "        nan        nan        nan        nan        nan        nan\n",
      "        nan        nan        nan        nan        nan        nan\n",
      "        nan        nan        nan        nan        nan        nan\n",
      "        nan        nan        nan        nan        nan        nan\n",
      "        nan        nan        nan        nan        nan        nan\n",
      "        nan        nan        nan        nan        nan        nan\n",
      "        nan        nan        nan        nan        nan        nan\n",
      "        nan        nan        nan        nan        nan        nan\n",
      "        nan        nan        nan        nan        nan        nan\n",
      "        nan        nan        nan        nan        nan        nan]\n",
      "  warnings.warn(\n"
     ]
    },
    {
     "name": "stdout",
     "output_type": "stream",
     "text": [
      "{'bootstrap': True, 'max_depth': 20, 'max_features': 'sqrt', 'min_samples_leaf': 2, 'min_samples_split': 2, 'n_estimators': 128}\n",
      "RandomForestRegressor(max_depth=20, max_features='sqrt', min_samples_leaf=2,\n",
      "                      n_estimators=128, oob_score=True, random_state=42)\n",
      "0.8180372015629397\n"
     ]
    }
   ],
   "source": [
    "# Hyperparameter tuning using grid search\n",
    "\n",
    "# Create the parameter grid\n",
    "param_gridRFR3 = {\n",
    "    'n_estimators': [64, 128],\n",
    "    'max_features': ['sqrt', 'log2'],\n",
    "    'max_depth': [10, 20, 30, None],\n",
    "    'min_samples_split': [2, 10],\n",
    "    'min_samples_leaf': [1, 2, 4],\n",
    "    'bootstrap': [True, False]\n",
    "}\n",
    "\n",
    "# Create a base model\n",
    "rfr3 = RandomForestRegressor(random_state=42, oob_score=True)\n",
    "\n",
    "# Instantiate the grid search model\n",
    "grid_searchRFR3 = GridSearchCV(estimator=rfr3, param_grid=param_gridRFR3, cv=3, n_jobs=-1, verbose=2)\n",
    "\n",
    "# Fit the grid search to the data\n",
    "grid_searchRFR3.fit(X_train3, y_train3)\n",
    "\n",
    "# Print the best parameters\n",
    "print(grid_searchRFR3.best_params_)\n",
    "print(grid_searchRFR3.best_estimator_)\n",
    "print(grid_searchRFR3.best_score_)\n",
    "\n",
    "\n",
    "# The results:\n",
    "# Best Params: {'bootstrap': True, 'max_depth': 20, 'max_features': 'sqrt', 'min_samples_leaf': 2, 'min_samples_split': 2, 'n_estimators': 128}\n",
    "# Classifier: RandomForestRegressor(max_depth=20, max_features='sqrt', min_samples_leaf=2, n_estimators=128, oob_score=True, random_state=42)\n",
    "# Score: 0.8180372015629397"
   ]
  },
  {
   "cell_type": "markdown",
   "metadata": {},
   "source": [
    "## 2.3) Evaluation of the Random Forest model"
   ]
  },
  {
   "cell_type": "code",
   "execution_count": 72,
   "metadata": {},
   "outputs": [
    {
     "name": "stdout",
     "output_type": "stream",
     "text": [
      "Out-of-Bag Score: 0.8206060480979982\n",
      "Mean Squared Error: 12.8456223600785\n",
      "R-squared: 0.8522800895181022\n",
      "Mean Absolute Error: 1.5775214773592048\n"
     ]
    }
   ],
   "source": [
    "bestRFRModel3 = grid_searchRFR3.best_estimator_\n",
    "\n",
    "# Evaluating the best model\n",
    "bestRFRpredection3 =  bestRFRModel3.predict(X_test3)\n",
    "\n",
    "# Calculate the accuracy of the model\n",
    "oob_score32 = bestRFRModel3.oob_score_\n",
    "print(f'Out-of-Bag Score: {oob_score32}')\n",
    "\n",
    "evaluateRegrission(y_test3, bestRFRpredection3)"
   ]
  },
  {
   "cell_type": "markdown",
   "metadata": {},
   "source": [
    "## 3.1) AdaBoost model implementation"
   ]
  },
  {
   "cell_type": "code",
   "execution_count": 73,
   "metadata": {},
   "outputs": [
    {
     "name": "stdout",
     "output_type": "stream",
     "text": [
      "Mean Squared Error: 148.19882989795522\n",
      "R-squared: -0.7042317820336559\n",
      "Mean Absolute Error: 11.487170690159692\n"
     ]
    }
   ],
   "source": [
    "# Creating a AdaBoost classifier\n",
    "abrModel3 = AdaBoostRegressor(n_estimators=100, random_state=42)\n",
    "\n",
    "abrModel3.fit(X_train3, y_train3)\n",
    "\n",
    "abrPredictions3 = abrModel3.predict(X_test3)\n",
    "\n",
    "# Calculate the accuracy of the model\n",
    " \n",
    "# Evaluating the model\n",
    "evaluateRegrission(y_test3, abrPredictions3)"
   ]
  },
  {
   "cell_type": "markdown",
   "metadata": {},
   "source": [
    "## 3.2) Hyperparameter tuning for the AdaBoost model"
   ]
  },
  {
   "cell_type": "code",
   "execution_count": 74,
   "metadata": {},
   "outputs": [
    {
     "name": "stdout",
     "output_type": "stream",
     "text": [
      "Fitting 3 folds for each of 35 candidates, totalling 105 fits\n",
      "{'learning_rate': 0.01, 'n_estimators': 200}\n",
      "AdaBoostRegressor(learning_rate=0.01, n_estimators=200, random_state=42)\n",
      "0.7237371691339942\n"
     ]
    }
   ],
   "source": [
    "# Hyperparameter tuning using grid search\n",
    "\n",
    "# Create the parameter grid\n",
    "param_gridABR3 = {\n",
    "    'n_estimators': [50, 70, 100, 200, 300],\n",
    "    'learning_rate': [0.0001, 0.001, 0.01, 0.05, 0.1, 0.3, 1]\n",
    "}\n",
    "\n",
    "# Create a base model\n",
    "abrModel3 = AdaBoostRegressor(random_state=42)\n",
    "\n",
    "# Instantiate the grid search model\n",
    "grid_searchABR3 = GridSearchCV(estimator=abrModel3, param_grid=param_gridABR3, cv=3, n_jobs=-1, verbose=2)\n",
    "\n",
    "# Fit the grid search to the data\n",
    "grid_searchABR3.fit(X_train3, y_train3)\n",
    "\n",
    "# Print the best parameters\n",
    "print(grid_searchABR3.best_params_)\n",
    "print(grid_searchABR3.best_estimator_)\n",
    "print(grid_searchABR3.best_score_)\n",
    "\n",
    "\n",
    "# The results:\n",
    "\n",
    "# {'learning_rate': 0.01, 'n_estimators': 200}\n",
    "# AdaBoostRegressor(learning_rate=0.01, n_estimators=200, random_state=42)\n",
    "# 0.7237371691339942"
   ]
  },
  {
   "cell_type": "markdown",
   "metadata": {},
   "source": [
    "## 3.3) Evaluation of the AdaBoost model"
   ]
  },
  {
   "cell_type": "code",
   "execution_count": 75,
   "metadata": {},
   "outputs": [
    {
     "name": "stdout",
     "output_type": "stream",
     "text": [
      "Mean Squared Error: 20.284462868168887\n",
      "R-squared: 0.7667361724433429\n",
      "Mean Absolute Error: 2.8013100044966803\n"
     ]
    }
   ],
   "source": [
    "# Evaluating the best model\n",
    "ABRpredection3 =  grid_searchABR3.best_estimator_.predict(X_test3)\n",
    " \n",
    "# Evaluating the model\n",
    "evaluateRegrission(y_test3, ABRpredection3)"
   ]
  },
  {
   "cell_type": "markdown",
   "metadata": {},
   "source": [
    "## 4.1) Gradient Boost model implementation"
   ]
  },
  {
   "cell_type": "code",
   "execution_count": 76,
   "metadata": {},
   "outputs": [
    {
     "name": "stdout",
     "output_type": "stream",
     "text": [
      "Mean Squared Error: 12.970903055576857\n",
      "R-squared: 0.8508394078130536\n",
      "Mean Absolute Error: 1.6307387979527952\n"
     ]
    }
   ],
   "source": [
    "# Creating a Gradient Boost classifier\n",
    "gbrModel3 = GradientBoostingRegressor(n_estimators=100, random_state=42)\n",
    "\n",
    "gbrModel3.fit(X_train3, y_train3)\n",
    "\n",
    "gbrPredictions3 = gbrModel3.predict(X_test3)\n",
    " \n",
    "# Evaluating the model\n",
    "evaluateRegrission(y_test3, gbrPredictions3)"
   ]
  },
  {
   "cell_type": "markdown",
   "metadata": {},
   "source": [
    "## 4.2) Hyperparameter tuning for the Gradient Boost model"
   ]
  },
  {
   "cell_type": "code",
   "execution_count": 77,
   "metadata": {},
   "outputs": [
    {
     "name": "stdout",
     "output_type": "stream",
     "text": [
      "Fitting 3 folds for each of 162 candidates, totalling 486 fits\n",
      "{'learning_rate': 0.1, 'max_depth': 4, 'min_samples_leaf': 2, 'min_samples_split': 2, 'n_estimators': 100}\n",
      "GradientBoostingRegressor(max_depth=4, max_features='sqrt', min_samples_leaf=2,\n",
      "                          random_state=42)\n",
      "0.8155001581679917\n"
     ]
    }
   ],
   "source": [
    "# Hyperparameter tuning using grid search\n",
    "\n",
    "# Create the parameter grid\n",
    "param_gridGBR3 = {\n",
    "    'n_estimators': [50, 100, 200],\n",
    "    'learning_rate': [0.01, 0.1, 0.3],\n",
    "    'max_depth': [3, 4],\n",
    "    'min_samples_split': [2, 5, 10],\n",
    "    'min_samples_leaf': [1, 2, 4],\n",
    "}\n",
    "\n",
    "# Create a base model\n",
    "gbrModel3 = GradientBoostingRegressor(random_state=42, max_features='sqrt')\n",
    "\n",
    "# Instantiate the grid search model\n",
    "grid_searchGBR3 = GridSearchCV(estimator=gbrModel3, param_grid=param_gridGBR3, cv=3, n_jobs=-1, verbose=2)\n",
    "\n",
    "# Fit the grid search to the data\n",
    "grid_searchGBR3.fit(X_train3, y_train3)\n",
    "\n",
    "# Print the best parameters\n",
    "print(grid_searchGBR3.best_params_)\n",
    "print(grid_searchGBR3.best_estimator_)\n",
    "print(grid_searchGBR3.best_score_)\n",
    "\n",
    "\n",
    "# The results:\n",
    "\n",
    "# {'learning_rate': 0.1, 'max_depth': 4, 'min_samples_leaf': 2, 'min_samples_split': 2, 'n_estimators': 100}\n",
    "# GradientBoostingRegressor(max_depth=4, max_features='sqrt', min_samples_leaf=2,\n",
    "#                           random_state=42)\n",
    "# 0.8155001581679917"
   ]
  },
  {
   "cell_type": "markdown",
   "metadata": {},
   "source": [
    "## 4.3) Evaluation of the Gradient Boost model"
   ]
  },
  {
   "cell_type": "code",
   "execution_count": 78,
   "metadata": {},
   "outputs": [
    {
     "name": "stdout",
     "output_type": "stream",
     "text": [
      "Mean Squared Error: 12.786441048020755\n",
      "R-squared: 0.8529606527383429\n",
      "Mean Absolute Error: 1.6151641794733644\n"
     ]
    }
   ],
   "source": [
    "# Evaluating the best model\n",
    "GBRpredection3 =  grid_searchGBR3.best_estimator_.predict(X_test3)\n",
    " \n",
    "# Evaluating the model\n",
    "evaluateRegrission(y_test3, GBRpredection3)"
   ]
  },
  {
   "cell_type": "markdown",
   "metadata": {},
   "source": [
    "## 5.0) Comparisson Table"
   ]
  },
  {
   "cell_type": "code",
   "execution_count": 79,
   "metadata": {},
   "outputs": [
    {
     "name": "stdout",
     "output_type": "stream",
     "text": [
      "            Model  Bankloan  DataBanknote  TaxiFare\n",
      "0   Random Forest  0.985499      0.992191  0.818037\n",
      "1        AdaBoost  0.966251      0.997070  0.723737\n",
      "2  Gradient Boost  0.986000      0.998048  0.815500\n"
     ]
    }
   ],
   "source": [
    "# Accuracy Using a table\n",
    "final_data = {\n",
    "    'Model': ['Random Forest', 'AdaBoost', 'Gradient Boost'],\n",
    "    'Bankloan': [grid_searchRFC.best_score_, grid_searchABC.best_score_, grid_searchGBC.best_score_],\n",
    "    'DataBanknote': [grid_searchRFC2.best_score_, grid_searchABC2.best_score_, grid_searchGBC2.best_score_],\n",
    "    'TaxiFare': [grid_searchRFR3.best_score_, grid_searchABR3.best_score_, grid_searchGBR3.best_score_]\n",
    "}\n",
    "\n",
    "df = pd.DataFrame(final_data)\n",
    "print(df)"
   ]
  },
  {
   "cell_type": "markdown",
   "metadata": {},
   "source": [
    "## 6.0) Visualization."
   ]
  },
  {
   "cell_type": "code",
   "execution_count": 106,
   "metadata": {},
   "outputs": [
    {
     "data": {
      "image/png": "[encoded data removed]",
      "text/plain": [
       "<Figure size 640x480 with 1 Axes>"
      ]
     },
     "metadata": {},
     "output_type": "display_data"
    }
   ],
   "source": [
    "# Bar Charting the final_data in the same figure\n",
    "df.plot(kind='barh', x='Model', y=['Bankloan', 'DataBanknote', 'TaxiFare'])\n",
    "plt.subplots_adjust(wspace=0.5)\n",
    "plt.legend(loc='center left', bbox_to_anchor=(1.0, 0.5))\n",
    "plt.xlim(0.7, 1)\n",
    "\n",
    "plt.show()"
   ]
  },
  {
   "cell_type": "code",
   "execution_count": 147,
   "metadata": {},
   "outputs": [
    {
     "data": {
      "image/png": "[encoded data removed]",
      "text/plain": [
       "<Figure size 640x480 with 2 Axes>"
      ]
     },
     "metadata": {},
     "output_type": "display_data"
    }
   ],
   "source": [
    "results1 = pd.DataFrame(grid_searchGBC.cv_results_)\n",
    "results1 = results1.sort_values(by='mean_test_score', ascending=False)\n",
    "results1 = results1[['param_learning_rate', 'param_n_estimators', 'mean_test_score']]\n",
    "results1 = results1.drop_duplicates(subset=['param_learning_rate', 'param_n_estimators'])\n",
    "results1 = results1.pivot(index='param_learning_rate', columns= 'param_n_estimators', values='mean_test_score')\n",
    "sns.heatmap(results1, annot=True, fmt='.4g', cmap='viridis')\n",
    "plt.title('Gradient Boosting Classifier')\n",
    "plt.show()"
   ]
  },
  {
   "cell_type": "code",
   "execution_count": 148,
   "metadata": {},
   "outputs": [
    {
     "data": {
      "image/png": "[encoded data removed]",
      "text/plain": [
       "<Figure size 640x480 with 2 Axes>"
      ]
     },
     "metadata": {},
     "output_type": "display_data"
    }
   ],
   "source": [
    "results2 = pd.DataFrame(grid_searchGBC2.cv_results_)\n",
    "results2 = results2.sort_values(by='mean_test_score', ascending=False)\n",
    "results2 = results2[['param_learning_rate', 'param_n_estimators', 'mean_test_score']]\n",
    "results2 = results2.drop_duplicates(subset=['param_learning_rate', 'param_n_estimators'])\n",
    "results2 = results2.pivot(index='param_learning_rate', columns= 'param_n_estimators', values='mean_test_score')\n",
    "sns.heatmap(results2, annot=True, fmt='.4g', cmap='viridis')\n",
    "plt.title('Gradient Boosting Classifier')\n",
    "plt.show()"
   ]
  },
  {
   "cell_type": "code",
   "execution_count": 149,
   "metadata": {},
   "outputs": [
    {
     "data": {
      "image/png": "[encoded data removed]",
      "text/plain": [
       "<Figure size 640x480 with 2 Axes>"
      ]
     },
     "metadata": {},
     "output_type": "display_data"
    }
   ],
   "source": [
    "results3 = pd.DataFrame(grid_searchGBR3.cv_results_)\n",
    "results3 = results3.sort_values(by='mean_test_score', ascending=False)\n",
    "results3 = results3[['param_learning_rate', 'param_n_estimators', 'mean_test_score']]\n",
    "results3 = results3.drop_duplicates(subset=['param_learning_rate', 'param_n_estimators'])\n",
    "results3 = results3.pivot(index='param_learning_rate', columns= 'param_n_estimators', values='mean_test_score')\n",
    "sns.heatmap(results3, annot=True, fmt='.4g', cmap='viridis')\n",
    "plt.title('Gradient Boosting Classifier')\n",
    "plt.show()"
   ]
  },
  {
   "cell_type": "markdown",
   "metadata": {},
   "source": [
    "## 7.0) Insight and Conslusion."
   ]
  },
  {
   "cell_type": "markdown",
   "metadata": {},
   "source": [
    "### Bankloan Dataset"
   ]
  },
  {
   "cell_type": "markdown",
   "metadata": {},
   "source": [
    "Model Performance:\n",
    "\n",
    "Random Forest: Achieved high accuracy (0.985499).\n",
    "\n",
    "AdaBoost: High accuracy (0.966251).\n",
    "\n",
    "Gradient Boost: High accuracy (0.986000).\n",
    "\n",
    "\n",
    "<br>\n",
    "\n",
    "\n",
    "Reasons:\n",
    "\n",
    "Strengths: All three models are well-suited for classification tasks where the goal is to predict binary outcomes (0 or 1).\n",
    "\n",
    "Dataset Characteristics: The Bankloan dataset likely has well-defined patterns that these models can exploit for accurate predictions.\n",
    "\n",
    "\n",
    "\n",
    "\n",
    "<br>\n",
    "<br>\n",
    "<br>\n",
    "<br>\n"
   ]
  },
  {
   "cell_type": "markdown",
   "metadata": {},
   "source": [
    "### DataBanknote Dataset"
   ]
  },
  {
   "cell_type": "markdown",
   "metadata": {},
   "source": [
    "Model Performance:\n",
    "\n",
    "Random Forest: Very high accuracy (0.992191).\n",
    "\n",
    "AdaBoost: Very high accuracy (0.997070).\n",
    "\n",
    "Gradient Boost: Excellent accuracy (0.998048).\n",
    "\n",
    "<br>\n",
    "\n",
    "\n",
    "Reasons:\n",
    "\n",
    "Strengths: Ensemble methods excel in handling complex patterns and relationships in the data.\n",
    "\n",
    "Dataset Characteristics: The DataBanknote dataset may have distinct and separable features, allowing ensemble models to achieve high accuracy.\n",
    "\n",
    "\n",
    "\n",
    "\n",
    "<br>\n",
    "<br>\n",
    "<br>\n",
    "<br>\n",
    "\n",
    "\n"
   ]
  },
  {
   "cell_type": "markdown",
   "metadata": {},
   "source": [
    "### TaxiFare Dataset"
   ]
  },
  {
   "cell_type": "markdown",
   "metadata": {},
   "source": [
    "Model Performance:\n",
    "\n",
    "Random Forest: Moderate accuracy (0.818037).\n",
    "\n",
    "AdaBoost: Lower accuracy (0.723737).\n",
    "\n",
    "Gradient Boost: Moderate accuracy (0.815500).\n",
    "\n",
    "\n",
    "<br>\n",
    "\n",
    "\n",
    "Reasons:\n",
    "\n",
    "Challenges: The TaxiFare dataset involves regression, predicting a continuous numeric value (fare amount) rather than a binary outcome.\n",
    "\n",
    "Weaknesses: Ensemble models might not perform as well in regression tasks compared to classification tasks.\n",
    "\n",
    "Dataset Characteristics: The regression nature of the task and the need to predict precise numeric values could pose challenges. The random sample from the large dataset might introduce some variability.\n",
    "\n",
    "\n",
    "\n",
    "\n",
    "<br>\n",
    "<br>\n",
    "<br>\n",
    "<br>\n"
   ]
  },
  {
   "cell_type": "markdown",
   "metadata": {},
   "source": [
    "#### General Insights & Conclusions"
   ]
  },
  {
   "cell_type": "markdown",
   "metadata": {},
   "source": [
    "Model Adaptability: Gradient Boost, despite being a boosting algorithm often used for regression, still faces challenges in the regression task. It might require more nuanced hyperparameter tuning for improved performance.\n",
    "\n",
    "Data Size: The decision to take a random sample from the TaxiFare dataset might introduce variability. The larger dataset might provide more diverse patterns for the models to learn.\n",
    "\n",
    "\n",
    "\n",
    "<br>\n",
    "<br>\n",
    "<br>\n",
    "<br>\n"
   ]
  }
 ],
 "metadata": {
  "kernelspec": {
   "display_name": "base",
   "language": "python",
   "name": "python3"
  },
  "language_info": {
   "codemirror_mode": {
    "name": "ipython",
    "version": 3
   },
   "file_extension": ".py",
   "mimetype": "text/x-python",
   "name": "python",
   "nbconvert_exporter": "python",
   "pygments_lexer": "ipython3",
   "version": "3.11.5"
  }
 },
 "nbformat": 4,
 "nbformat_minor": 2
}
